{
 "cells": [
  {
   "cell_type": "markdown",
   "id": "e66afbc1",
   "metadata": {
    "papermill": {
     "duration": 0.022021,
     "end_time": "2022-08-03T19:02:49.596183",
     "exception": false,
     "start_time": "2022-08-03T19:02:49.574162",
     "status": "completed"
    },
    "tags": []
   },
   "source": [
    "# Diabetes Prediction using machine learning project"
   ]
  },
  {
   "cell_type": "markdown",
   "id": "f7d4c00d",
   "metadata": {
    "papermill": {
     "duration": 0.020047,
     "end_time": "2022-08-03T19:02:49.883146",
     "exception": false,
     "start_time": "2022-08-03T19:02:49.863099",
     "status": "completed"
    },
    "tags": []
   },
   "source": [
    "#### **1.1.Importing Libraries**\n",
    "<a id=\"importing_libraries\"></a>"
   ]
  },
  {
   "cell_type": "code",
   "execution_count": 1,
   "id": "ab4a6a31",
   "metadata": {
    "_cell_guid": "b1076dfc-b9ad-4769-8c92-a6c4dae69d19",
    "_uuid": "8f2839f25d086af736a60e9eeb907d3b93b6e0e5",
    "execution": {
     "iopub.execute_input": "2022-08-03T19:02:49.926727Z",
     "iopub.status.busy": "2022-08-03T19:02:49.925337Z",
     "iopub.status.idle": "2022-08-03T19:02:52.781167Z",
     "shell.execute_reply": "2022-08-03T19:02:52.779982Z"
    },
    "papermill": {
     "duration": 2.880392,
     "end_time": "2022-08-03T19:02:52.783815",
     "exception": false,
     "start_time": "2022-08-03T19:02:49.903423",
     "status": "completed"
    },
    "tags": []
   },
   "outputs": [
    {
     "data": {
      "text/html": [
       "<style type='text/css'>\n",
       ".datatable table.frame { margin-bottom: 0; }\n",
       ".datatable table.frame thead { border-bottom: none; }\n",
       ".datatable table.frame tr.coltypes td {  color: #FFFFFF;  line-height: 6px;  padding: 0 0.5em;}\n",
       ".datatable .bool    { background: #DDDD99; }\n",
       ".datatable .object  { background: #565656; }\n",
       ".datatable .int     { background: #5D9E5D; }\n",
       ".datatable .float   { background: #4040CC; }\n",
       ".datatable .str     { background: #CC4040; }\n",
       ".datatable .time    { background: #40CC40; }\n",
       ".datatable .row_index {  background: var(--jp-border-color3);  border-right: 1px solid var(--jp-border-color0);  color: var(--jp-ui-font-color3);  font-size: 9px;}\n",
       ".datatable .frame tbody td { text-align: left; }\n",
       ".datatable .frame tr.coltypes .row_index {  background: var(--jp-border-color0);}\n",
       ".datatable th:nth-child(2) { padding-left: 12px; }\n",
       ".datatable .hellipsis {  color: var(--jp-cell-editor-border-color);}\n",
       ".datatable .vellipsis {  background: var(--jp-layout-color0);  color: var(--jp-cell-editor-border-color);}\n",
       ".datatable .na {  color: var(--jp-cell-editor-border-color);  font-size: 80%;}\n",
       ".datatable .sp {  opacity: 0.25;}\n",
       ".datatable .footer { font-size: 9px; }\n",
       ".datatable .frame_dimensions {  background: var(--jp-border-color3);  border-top: 1px solid var(--jp-border-color0);  color: var(--jp-ui-font-color3);  display: inline-block;  opacity: 0.6;  padding: 1px 10px 1px 5px;}\n",
       "</style>\n"
      ],
      "text/plain": [
       "<IPython.core.display.HTML object>"
      ]
     },
     "metadata": {},
     "output_type": "display_data"
    },
    {
     "name": "stdout",
     "output_type": "stream",
     "text": [
      "/kaggle/input/diabetes-data-set/diabetes.csv\n"
     ]
    }
   ],
   "source": [
    "import numpy as np\n",
    "import pandas as pd\n",
    "import seaborn as sns\n",
    "from matplotlib import pyplot as plt\n",
    "# !pip install missingno\n",
    "import missingno as msno\n",
    "from datetime import date\n",
    "from sklearn.metrics import accuracy_score\n",
    "from sklearn.model_selection import train_test_split\n",
    "from sklearn.neighbors import LocalOutlierFactor\n",
    "from sklearn.preprocessing import MinMaxScaler, LabelEncoder, StandardScaler, RobustScaler\n",
    "from sklearn.neighbors import KNeighborsClassifier\n",
    "from sklearn.svm import SVC\n",
    "from sklearn.neural_network import MLPClassifier\n",
    "from sklearn.tree import DecisionTreeClassifier\n",
    "from sklearn.ensemble import RandomForestClassifier\n",
    "from sklearn.ensemble import GradientBoostingClassifier\n",
    "from xgboost import XGBClassifier\n",
    "from lightgbm import LGBMClassifier\n",
    "from catboost import CatBoostClassifier\n",
    "from sklearn.linear_model import LogisticRegression\n",
    "\n",
    "\n",
    "\n",
    "import os\n",
    "for dirname, _, filenames in os.walk('/kaggle/input'):\n",
    "    for filename in filenames:\n",
    "        print(os.path.join(dirname, filename))\n"
   ]
  },
  {
   "cell_type": "markdown",
   "id": "2884b21a",
   "metadata": {
    "papermill": {
     "duration": 0.021483,
     "end_time": "2022-08-03T19:02:52.826110",
     "exception": false,
     "start_time": "2022-08-03T19:02:52.804627",
     "status": "completed"
    },
    "tags": []
   },
   "source": [
    "#### **1.2.Read the dataset**\n",
    "<a id=\"read_the_dataset\"></a>"
   ]
  },
  {
   "cell_type": "code",
   "execution_count": 2,
   "id": "f0745e26",
   "metadata": {
    "execution": {
     "iopub.execute_input": "2022-08-03T19:02:52.869233Z",
     "iopub.status.busy": "2022-08-03T19:02:52.868776Z",
     "iopub.status.idle": "2022-08-03T19:02:52.900302Z",
     "shell.execute_reply": "2022-08-03T19:02:52.898855Z"
    },
    "papermill": {
     "duration": 0.056432,
     "end_time": "2022-08-03T19:02:52.903244",
     "exception": false,
     "start_time": "2022-08-03T19:02:52.846812",
     "status": "completed"
    },
    "tags": []
   },
   "outputs": [
    {
     "data": {
      "text/html": [
       "<div>\n",
       "<style scoped>\n",
       "    .dataframe tbody tr th:only-of-type {\n",
       "        vertical-align: middle;\n",
       "    }\n",
       "\n",
       "    .dataframe tbody tr th {\n",
       "        vertical-align: top;\n",
       "    }\n",
       "\n",
       "    .dataframe thead th {\n",
       "        text-align: right;\n",
       "    }\n",
       "</style>\n",
       "<table border=\"1\" class=\"dataframe\">\n",
       "  <thead>\n",
       "    <tr style=\"text-align: right;\">\n",
       "      <th></th>\n",
       "      <th>Pregnancies</th>\n",
       "      <th>Glucose</th>\n",
       "      <th>BloodPressure</th>\n",
       "      <th>SkinThickness</th>\n",
       "      <th>Insulin</th>\n",
       "      <th>BMI</th>\n",
       "      <th>DiabetesPedigreeFunction</th>\n",
       "      <th>Age</th>\n",
       "      <th>Outcome</th>\n",
       "    </tr>\n",
       "  </thead>\n",
       "  <tbody>\n",
       "    <tr>\n",
       "      <th>0</th>\n",
       "      <td>6</td>\n",
       "      <td>148</td>\n",
       "      <td>72</td>\n",
       "      <td>35</td>\n",
       "      <td>0</td>\n",
       "      <td>33.6</td>\n",
       "      <td>0.627</td>\n",
       "      <td>50</td>\n",
       "      <td>1</td>\n",
       "    </tr>\n",
       "    <tr>\n",
       "      <th>1</th>\n",
       "      <td>1</td>\n",
       "      <td>85</td>\n",
       "      <td>66</td>\n",
       "      <td>29</td>\n",
       "      <td>0</td>\n",
       "      <td>26.6</td>\n",
       "      <td>0.351</td>\n",
       "      <td>31</td>\n",
       "      <td>0</td>\n",
       "    </tr>\n",
       "    <tr>\n",
       "      <th>2</th>\n",
       "      <td>8</td>\n",
       "      <td>183</td>\n",
       "      <td>64</td>\n",
       "      <td>0</td>\n",
       "      <td>0</td>\n",
       "      <td>23.3</td>\n",
       "      <td>0.672</td>\n",
       "      <td>32</td>\n",
       "      <td>1</td>\n",
       "    </tr>\n",
       "    <tr>\n",
       "      <th>3</th>\n",
       "      <td>1</td>\n",
       "      <td>89</td>\n",
       "      <td>66</td>\n",
       "      <td>23</td>\n",
       "      <td>94</td>\n",
       "      <td>28.1</td>\n",
       "      <td>0.167</td>\n",
       "      <td>21</td>\n",
       "      <td>0</td>\n",
       "    </tr>\n",
       "    <tr>\n",
       "      <th>4</th>\n",
       "      <td>0</td>\n",
       "      <td>137</td>\n",
       "      <td>40</td>\n",
       "      <td>35</td>\n",
       "      <td>168</td>\n",
       "      <td>43.1</td>\n",
       "      <td>2.288</td>\n",
       "      <td>33</td>\n",
       "      <td>1</td>\n",
       "    </tr>\n",
       "  </tbody>\n",
       "</table>\n",
       "</div>"
      ],
      "text/plain": [
       "   Pregnancies  Glucose  BloodPressure  SkinThickness  Insulin   BMI  \\\n",
       "0            6      148             72             35        0  33.6   \n",
       "1            1       85             66             29        0  26.6   \n",
       "2            8      183             64              0        0  23.3   \n",
       "3            1       89             66             23       94  28.1   \n",
       "4            0      137             40             35      168  43.1   \n",
       "\n",
       "   DiabetesPedigreeFunction  Age  Outcome  \n",
       "0                     0.627   50        1  \n",
       "1                     0.351   31        0  \n",
       "2                     0.672   32        1  \n",
       "3                     0.167   21        0  \n",
       "4                     2.288   33        1  "
      ]
     },
     "execution_count": 2,
     "metadata": {},
     "output_type": "execute_result"
    }
   ],
   "source": [
    "df = pd.read_csv(\"../input/diabetes-data-set/diabetes.csv\")\n",
    "df.head()"
   ]
  },
  {
   "cell_type": "markdown",
   "id": "8cb0d451",
   "metadata": {
    "papermill": {
     "duration": 0.021162,
     "end_time": "2022-08-03T19:02:52.945300",
     "exception": false,
     "start_time": "2022-08-03T19:02:52.924138",
     "status": "completed"
    },
    "tags": []
   },
   "source": [
    "#### **1.3.Exploratory Data Analysis**\n",
    "<a id=\"exploratory_data_analysis\"></a>"
   ]
  },
  {
   "cell_type": "code",
   "execution_count": 3,
   "id": "91389e7f",
   "metadata": {
    "execution": {
     "iopub.execute_input": "2022-08-03T19:02:52.989104Z",
     "iopub.status.busy": "2022-08-03T19:02:52.988672Z",
     "iopub.status.idle": "2022-08-03T19:02:53.061246Z",
     "shell.execute_reply": "2022-08-03T19:02:53.060070Z"
    },
    "papermill": {
     "duration": 0.098298,
     "end_time": "2022-08-03T19:02:53.064530",
     "exception": false,
     "start_time": "2022-08-03T19:02:52.966232",
     "status": "completed"
    },
    "tags": []
   },
   "outputs": [
    {
     "name": "stdout",
     "output_type": "stream",
     "text": [
      "--------------------    Information     --------------------\n",
      "<class 'pandas.core.frame.DataFrame'>\n",
      "RangeIndex: 768 entries, 0 to 767\n",
      "Data columns (total 9 columns):\n",
      " #   Column                    Non-Null Count  Dtype  \n",
      "---  ------                    --------------  -----  \n",
      " 0   Pregnancies               768 non-null    int64  \n",
      " 1   Glucose                   768 non-null    int64  \n",
      " 2   BloodPressure             768 non-null    int64  \n",
      " 3   SkinThickness             768 non-null    int64  \n",
      " 4   Insulin                   768 non-null    int64  \n",
      " 5   BMI                       768 non-null    float64\n",
      " 6   DiabetesPedigreeFunction  768 non-null    float64\n",
      " 7   Age                       768 non-null    int64  \n",
      " 8   Outcome                   768 non-null    int64  \n",
      "dtypes: float64(2), int64(7)\n",
      "memory usage: 54.1 KB\n",
      "None\n",
      "--------------------     Data Shape     --------------------\n",
      "(768, 9)\n",
      "\n",
      "--------------------  The First 5 Data  --------------------\n",
      "   Pregnancies  Glucose  BloodPressure  SkinThickness  Insulin   BMI  \\\n",
      "0            6      148             72             35        0  33.6   \n",
      "1            1       85             66             29        0  26.6   \n",
      "2            8      183             64              0        0  23.3   \n",
      "3            1       89             66             23       94  28.1   \n",
      "4            0      137             40             35      168  43.1   \n",
      "\n",
      "   DiabetesPedigreeFunction  Age  Outcome  \n",
      "0                     0.627   50        1  \n",
      "1                     0.351   31        0  \n",
      "2                     0.672   32        1  \n",
      "3                     0.167   21        0  \n",
      "4                     2.288   33        1  \n",
      "\n",
      "--------------------  The Last 5 Data   --------------------\n",
      "     Pregnancies  Glucose  BloodPressure  SkinThickness  Insulin   BMI  \\\n",
      "763           10      101             76             48      180  32.9   \n",
      "764            2      122             70             27        0  36.8   \n",
      "765            5      121             72             23      112  26.2   \n",
      "766            1      126             60              0        0  30.1   \n",
      "767            1       93             70             31        0  30.4   \n",
      "\n",
      "     DiabetesPedigreeFunction  Age  Outcome  \n",
      "763                     0.171   63        0  \n",
      "764                     0.340   27        0  \n",
      "765                     0.245   30        0  \n",
      "766                     0.349   47        1  \n",
      "767                     0.315   23        0  \n",
      "\n",
      "--------------------   Missing Values   --------------------\n",
      "Pregnancies                 0\n",
      "Glucose                     0\n",
      "BloodPressure               0\n",
      "SkinThickness               0\n",
      "Insulin                     0\n",
      "BMI                         0\n",
      "DiabetesPedigreeFunction    0\n",
      "Age                         0\n",
      "Outcome                     0\n",
      "dtype: int64\n",
      "\n",
      "----------------------------------------           Describe the Data            ----------------------------------------\n",
      "                          count        mean         std     min        1%  \\\n",
      "Pregnancies               768.0    3.845052    3.369578   0.000   0.00000   \n",
      "Glucose                   768.0  120.894531   31.972618   0.000  57.00000   \n",
      "BloodPressure             768.0   69.105469   19.355807   0.000   0.00000   \n",
      "SkinThickness             768.0   20.536458   15.952218   0.000   0.00000   \n",
      "Insulin                   768.0   79.799479  115.244002   0.000   0.00000   \n",
      "BMI                       768.0   31.992578    7.884160   0.000   0.00000   \n",
      "DiabetesPedigreeFunction  768.0    0.471876    0.331329   0.078   0.09468   \n",
      "Age                       768.0   33.240885   11.760232  21.000  21.00000   \n",
      "Outcome                   768.0    0.348958    0.476951   0.000   0.00000   \n",
      "\n",
      "                                5%     10%       50%        75%       90%  \\\n",
      "Pregnancies                0.00000   0.000    3.0000    6.00000    9.0000   \n",
      "Glucose                   79.00000  85.000  117.0000  140.25000  167.0000   \n",
      "BloodPressure             38.70000  54.000   72.0000   80.00000   88.0000   \n",
      "SkinThickness              0.00000   0.000   23.0000   32.00000   40.0000   \n",
      "Insulin                    0.00000   0.000   30.5000  127.25000  210.0000   \n",
      "BMI                       21.80000  23.600   32.0000   36.60000   41.5000   \n",
      "DiabetesPedigreeFunction   0.14035   0.165    0.3725    0.62625    0.8786   \n",
      "Age                       21.00000  22.000   29.0000   41.00000   51.0000   \n",
      "Outcome                    0.00000   0.000    0.0000    1.00000    1.0000   \n",
      "\n",
      "                                95%        99%     max  \n",
      "Pregnancies                10.00000   13.00000   17.00  \n",
      "Glucose                   181.00000  196.00000  199.00  \n",
      "BloodPressure              90.00000  106.00000  122.00  \n",
      "SkinThickness              44.00000   51.33000   99.00  \n",
      "Insulin                   293.00000  519.90000  846.00  \n",
      "BMI                        44.39500   50.75900   67.10  \n",
      "DiabetesPedigreeFunction    1.13285    1.69833    2.42  \n",
      "Age                        58.00000   67.00000   81.00  \n",
      "Outcome                     1.00000    1.00000    1.00  \n"
     ]
    }
   ],
   "source": [
    "def check_data(dataframe,head=5):\n",
    "    print(20*\"-\" + \"Information\".center(20) + 20*\"-\")\n",
    "    print(dataframe.info())\n",
    "    print(20*\"-\" + \"Data Shape\".center(20) + 20*\"-\")\n",
    "    print(dataframe.shape)\n",
    "    print(\"\\n\" + 20*\"-\" + \"The First 5 Data\".center(20) + 20*\"-\")\n",
    "    print(dataframe.head())\n",
    "    print(\"\\n\" + 20 * \"-\" + \"The Last 5 Data\".center(20) + 20 * \"-\")\n",
    "    print(dataframe.tail())\n",
    "    print(\"\\n\" + 20 * \"-\" + \"Missing Values\".center(20) + 20 * \"-\")\n",
    "    print(dataframe.isnull().sum())\n",
    "    print(\"\\n\" + 40 * \"-\" + \"Describe the Data\".center(40) + 40 * \"-\")\n",
    "    print(dataframe.describe([0.01, 0.05, 0.10, 0.50, 0.75, 0.90, 0.95, 0.99]).T)\n",
    "\n",
    "check_data(df)"
   ]
  },
  {
   "cell_type": "markdown",
   "id": "12fafbcf",
   "metadata": {
    "papermill": {
     "duration": 0.020839,
     "end_time": "2022-08-03T19:02:53.106541",
     "exception": false,
     "start_time": "2022-08-03T19:02:53.085702",
     "status": "completed"
    },
    "tags": []
   },
   "source": [
    "#### Conclusion:\n",
    "*  There are only numerical variables in this dataset.\n",
    "*  768 observations, 9 variable available(1 dependent)\n",
    "*  Under normal circumstances, it seems that there are no missing valuesin the data set, but there may be missing values hidden in the data of the variables here."
   ]
  },
  {
   "cell_type": "markdown",
   "id": "2bb1a184",
   "metadata": {
    "papermill": {
     "duration": 0.021269,
     "end_time": "2022-08-03T19:02:53.148875",
     "exception": false,
     "start_time": "2022-08-03T19:02:53.127606",
     "status": "completed"
    },
    "tags": []
   },
   "source": [
    "##### 1.3.1.Checking the missing values in the dataset\n",
    "<a id=\"checking_the_missing_values_in_the_dataset\"></a>"
   ]
  },
  {
   "cell_type": "code",
   "execution_count": 4,
   "id": "7bef1b12",
   "metadata": {
    "execution": {
     "iopub.execute_input": "2022-08-03T19:02:53.192603Z",
     "iopub.status.busy": "2022-08-03T19:02:53.192218Z",
     "iopub.status.idle": "2022-08-03T19:02:53.201111Z",
     "shell.execute_reply": "2022-08-03T19:02:53.200114Z"
    },
    "papermill": {
     "duration": 0.033495,
     "end_time": "2022-08-03T19:02:53.203421",
     "exception": false,
     "start_time": "2022-08-03T19:02:53.169926",
     "status": "completed"
    },
    "tags": []
   },
   "outputs": [],
   "source": [
    "dimension_variable = [\"Glucose\",\"BloodPressure\",\"SkinThickness\",\"Insulin\",\"BMI\"]\n",
    "df[dimension_variable] = df[dimension_variable].replace(0,np.NaN)"
   ]
  },
  {
   "cell_type": "code",
   "execution_count": 5,
   "id": "cc55f9e1",
   "metadata": {
    "execution": {
     "iopub.execute_input": "2022-08-03T19:02:53.248214Z",
     "iopub.status.busy": "2022-08-03T19:02:53.247573Z",
     "iopub.status.idle": "2022-08-03T19:02:53.256525Z",
     "shell.execute_reply": "2022-08-03T19:02:53.255557Z"
    },
    "papermill": {
     "duration": 0.034236,
     "end_time": "2022-08-03T19:02:53.258865",
     "exception": false,
     "start_time": "2022-08-03T19:02:53.224629",
     "status": "completed"
    },
    "tags": []
   },
   "outputs": [
    {
     "data": {
      "text/plain": [
       "Pregnancies                   0\n",
       "Glucose                       5\n",
       "BloodPressure                35\n",
       "SkinThickness               227\n",
       "Insulin                     374\n",
       "BMI                          11\n",
       "DiabetesPedigreeFunction      0\n",
       "Age                           0\n",
       "Outcome                       0\n",
       "dtype: int64"
      ]
     },
     "execution_count": 5,
     "metadata": {},
     "output_type": "execute_result"
    }
   ],
   "source": [
    "df.isnull().sum()"
   ]
  },
  {
   "cell_type": "markdown",
   "id": "a5f9eb98",
   "metadata": {
    "papermill": {
     "duration": 0.021048,
     "end_time": "2022-08-03T19:02:53.301351",
     "exception": false,
     "start_time": "2022-08-03T19:02:53.280303",
     "status": "completed"
    },
    "tags": []
   },
   "source": [
    "##### 1.3.2.Define a Function to grab the Numerical and Categorical variables of its dataset"
   ]
  },
  {
   "cell_type": "code",
   "execution_count": 6,
   "id": "d5646208",
   "metadata": {
    "execution": {
     "iopub.execute_input": "2022-08-03T19:02:53.348086Z",
     "iopub.status.busy": "2022-08-03T19:02:53.347395Z",
     "iopub.status.idle": "2022-08-03T19:02:53.363585Z",
     "shell.execute_reply": "2022-08-03T19:02:53.362545Z"
    },
    "papermill": {
     "duration": 0.042098,
     "end_time": "2022-08-03T19:02:53.366001",
     "exception": false,
     "start_time": "2022-08-03T19:02:53.323903",
     "status": "completed"
    },
    "tags": []
   },
   "outputs": [
    {
     "name": "stdout",
     "output_type": "stream",
     "text": [
      "Observations: 768\n",
      "Variables: 9\n",
      "cat_cols: 1\n",
      "num_cols: 8\n",
      "cat_but_car: 0\n",
      "num_but_cat: 1\n"
     ]
    }
   ],
   "source": [
    "def grab_col_names(dataframe, cat_th=10, car_th=20):\n",
    "    \"\"\"\n",
    "\n",
    "    Veri setindeki kategorik, numerik ve kategorik fakat kardinal değişkenlerin isimlerini verir.\n",
    "    Not: Kategorik değişkenlerin içerisine numerik görünümlü kategorik değişkenler de dahildir.\n",
    "\n",
    "    Parameters\n",
    "    ------\n",
    "        dataframe: dataframe\n",
    "                Değişken isimleri alınmak istenilen dataframe\n",
    "        cat_th: int, optional\n",
    "                numerik fakat kategorik olan değişkenler için sınıf eşik değeri\n",
    "        car_th: int, optinal\n",
    "                kategorik fakat kardinal değişkenler için sınıf eşik değeri\n",
    "\n",
    "    Returns\n",
    "    ------\n",
    "        cat_cols: list\n",
    "                Kategorik değişken listesi\n",
    "        num_cols: list\n",
    "                Numerik değişken listesi\n",
    "        cat_but_car: list\n",
    "                Kategorik görünümlü kardinal değişken listesi\n",
    "\n",
    "    Examples\n",
    "    ------\n",
    "        import seaborn as sns\n",
    "        df = sns.load_dataset(\"iris\")\n",
    "        print(grab_col_names(df))\n",
    "\n",
    "\n",
    "    Notes\n",
    "    ------\n",
    "        cat_cols + num_cols + cat_but_car = toplam değişken sayısı\n",
    "        num_but_cat cat_cols'un içerisinde.\n",
    "        Return olan 3 liste toplamı toplam değişken sayısına eşittir: cat_cols + num_cols + cat_but_car = değişken sayısı\n",
    "\n",
    "    \"\"\"\n",
    "\n",
    "    # cat_cols, cat_but_car\n",
    "    cat_cols = [col for col in dataframe.columns if dataframe[col].dtypes == \"O\"]\n",
    "    num_but_cat = [col for col in dataframe.columns if dataframe[col].nunique() < cat_th and\n",
    "                   dataframe[col].dtypes != \"O\"]\n",
    "    cat_but_car = [col for col in dataframe.columns if dataframe[col].nunique() > car_th and\n",
    "                   dataframe[col].dtypes == \"O\"]\n",
    "    cat_cols = cat_cols + num_but_cat\n",
    "    cat_cols = [col for col in cat_cols if col not in cat_but_car]\n",
    "\n",
    "    # num_cols\n",
    "    num_cols = [col for col in dataframe.columns if dataframe[col].dtypes != \"O\"]\n",
    "    num_cols = [col for col in num_cols if col not in num_but_cat]\n",
    "\n",
    "    print(f\"Observations: {dataframe.shape[0]}\")\n",
    "    print(f\"Variables: {dataframe.shape[1]}\")\n",
    "    print(f'cat_cols: {len(cat_cols)}')\n",
    "    print(f'num_cols: {len(num_cols)}')\n",
    "    print(f'cat_but_car: {len(cat_but_car)}')\n",
    "    print(f'num_but_cat: {len(num_but_cat)}')\n",
    "    return cat_cols, num_cols, cat_but_car\n",
    "\n",
    "cat_cols, num_cols, cat_but_car = grab_col_names(df)"
   ]
  },
  {
   "cell_type": "code",
   "execution_count": 7,
   "id": "5d537177",
   "metadata": {
    "execution": {
     "iopub.execute_input": "2022-08-03T19:02:53.411377Z",
     "iopub.status.busy": "2022-08-03T19:02:53.410621Z",
     "iopub.status.idle": "2022-08-03T19:02:53.416924Z",
     "shell.execute_reply": "2022-08-03T19:02:53.416078Z"
    },
    "papermill": {
     "duration": 0.031614,
     "end_time": "2022-08-03T19:02:53.419229",
     "exception": false,
     "start_time": "2022-08-03T19:02:53.387615",
     "status": "completed"
    },
    "tags": []
   },
   "outputs": [
    {
     "data": {
      "text/plain": [
       "['Pregnancies',\n",
       " 'Glucose',\n",
       " 'BloodPressure',\n",
       " 'SkinThickness',\n",
       " 'Insulin',\n",
       " 'BMI',\n",
       " 'DiabetesPedigreeFunction',\n",
       " 'Age']"
      ]
     },
     "execution_count": 7,
     "metadata": {},
     "output_type": "execute_result"
    }
   ],
   "source": [
    "num_cols"
   ]
  },
  {
   "cell_type": "markdown",
   "id": "662ba42e",
   "metadata": {
    "papermill": {
     "duration": 0.021229,
     "end_time": "2022-08-03T19:02:53.462847",
     "exception": false,
     "start_time": "2022-08-03T19:02:53.441618",
     "status": "completed"
    },
    "tags": []
   },
   "source": [
    "##### 1.3.3.Target Variable Analysis"
   ]
  },
  {
   "cell_type": "code",
   "execution_count": 8,
   "id": "4174a72a",
   "metadata": {
    "execution": {
     "iopub.execute_input": "2022-08-03T19:02:53.508194Z",
     "iopub.status.busy": "2022-08-03T19:02:53.507513Z",
     "iopub.status.idle": "2022-08-03T19:02:53.515432Z",
     "shell.execute_reply": "2022-08-03T19:02:53.514379Z"
    },
    "papermill": {
     "duration": 0.033213,
     "end_time": "2022-08-03T19:02:53.517608",
     "exception": false,
     "start_time": "2022-08-03T19:02:53.484395",
     "status": "completed"
    },
    "tags": []
   },
   "outputs": [
    {
     "data": {
      "text/plain": [
       "0    500\n",
       "1    268\n",
       "Name: Outcome, dtype: int64"
      ]
     },
     "execution_count": 8,
     "metadata": {},
     "output_type": "execute_result"
    }
   ],
   "source": [
    "df[\"Outcome\"].value_counts()"
   ]
  },
  {
   "cell_type": "code",
   "execution_count": 9,
   "id": "090ec9c4",
   "metadata": {
    "execution": {
     "iopub.execute_input": "2022-08-03T19:02:53.563067Z",
     "iopub.status.busy": "2022-08-03T19:02:53.562440Z",
     "iopub.status.idle": "2022-08-03T19:02:53.592757Z",
     "shell.execute_reply": "2022-08-03T19:02:53.591228Z"
    },
    "papermill": {
     "duration": 0.057016,
     "end_time": "2022-08-03T19:02:53.596289",
     "exception": false,
     "start_time": "2022-08-03T19:02:53.539273",
     "status": "completed"
    },
    "tags": []
   },
   "outputs": [
    {
     "name": "stdout",
     "output_type": "stream",
     "text": [
      "         Pregnancies\n",
      "Outcome             \n",
      "0           3.298000\n",
      "1           4.865672\n",
      "\n",
      "###################################\n",
      "            Glucose\n",
      "Outcome            \n",
      "0        110.643863\n",
      "1        142.319549\n",
      "\n",
      "###################################\n",
      "         BloodPressure\n",
      "Outcome               \n",
      "0            70.877339\n",
      "1            75.321429\n",
      "\n",
      "###################################\n",
      "         SkinThickness\n",
      "Outcome               \n",
      "0            27.235457\n",
      "1            33.000000\n",
      "\n",
      "###################################\n",
      "            Insulin\n",
      "Outcome            \n",
      "0        130.287879\n",
      "1        206.846154\n",
      "\n",
      "###################################\n",
      "               BMI\n",
      "Outcome           \n",
      "0        30.859674\n",
      "1        35.406767\n",
      "\n",
      "###################################\n",
      "         DiabetesPedigreeFunction\n",
      "Outcome                          \n",
      "0                        0.429734\n",
      "1                        0.550500\n",
      "\n",
      "###################################\n",
      "               Age\n",
      "Outcome           \n",
      "0        31.190000\n",
      "1        37.067164\n",
      "\n",
      "###################################\n"
     ]
    }
   ],
   "source": [
    "def target_summary_with_num(dataframe,target, numerical_col):\n",
    "    print(dataframe.groupby(target).agg({numerical_col:\"mean\"}), end=\"\\n\\n\")\n",
    "    print(\"###################################\")\n",
    "    \n",
    "for col in num_cols:\n",
    "    target_summary_with_num(df,\"Outcome\",col)"
   ]
  },
  {
   "cell_type": "code",
   "execution_count": 10,
   "id": "be9abeeb",
   "metadata": {
    "execution": {
     "iopub.execute_input": "2022-08-03T19:02:53.644022Z",
     "iopub.status.busy": "2022-08-03T19:02:53.643257Z",
     "iopub.status.idle": "2022-08-03T19:02:56.209232Z",
     "shell.execute_reply": "2022-08-03T19:02:56.207972Z"
    },
    "papermill": {
     "duration": 2.593091,
     "end_time": "2022-08-03T19:02:56.211938",
     "exception": false,
     "start_time": "2022-08-03T19:02:53.618847",
     "status": "completed"
    },
    "tags": []
   },
   "outputs": [
    {
     "data": {
      "image/png": "[encoded data removed]",
      "text/plain": [
       "<Figure size 1080x576 with 1 Axes>"
      ]
     },
     "metadata": {
      "needs_background": "light"
     },
     "output_type": "display_data"
    },
    {
     "data": {
      "image/png": "[encoded data removed]",
      "text/plain": [
       "<Figure size 1080x576 with 1 Axes>"
      ]
     },
     "metadata": {
      "needs_background": "light"
     },
     "output_type": "display_data"
    },
    {
     "data": {
      "image/png": "[encoded data removed]",
      "text/plain": [
       "<Figure size 1080x576 with 1 Axes>"
      ]
     },
     "metadata": {
      "needs_background": "light"
     },
     "output_type": "display_data"
    },
    {
     "data": {
      "image/png": "[encoded data removed]",
      "text/plain": [
       "<Figure size 1080x576 with 1 Axes>"
      ]
     },
     "metadata": {
      "needs_background": "light"
     },
     "output_type": "display_data"
    },
    {
     "data": {
      "image/png": "[encoded data removed]",
      "text/plain": [
       "<Figure size 1080x576 with 1 Axes>"
      ]
     },
     "metadata": {
      "needs_background": "light"
     },
     "output_type": "display_data"
    },
    {
     "data": {
      "image/png": "[encoded data removed]",
      "text/plain": [
       "<Figure size 1080x576 with 1 Axes>"
      ]
     },
     "metadata": {
      "needs_background": "light"
     },
     "output_type": "display_data"
    },
    {
     "data": {
      "image/png": "[encoded data removed]",
      "text/plain": [
       "<Figure size 1080x576 with 1 Axes>"
      ]
     },
     "metadata": {
      "needs_background": "light"
     },
     "output_type": "display_data"
    },
    {
     "data": {
      "image/png": "[encoded data removed]",
      "text/plain": [
       "<Figure size 1080x576 with 1 Axes>"
      ]
     },
     "metadata": {
      "needs_background": "light"
     },
     "output_type": "display_data"
    }
   ],
   "source": [
    "def target_density_est_with_num(dataframe,target, numerical_col):\n",
    "    plt.figure(figsize=(15,8))\n",
    "    ax = sns.kdeplot(df[col][df.Outcome == 1], color=\"green\", shade=True)\n",
    "    sns.kdeplot(df[col][df.Outcome == 0], color=\"red\", shade=True)\n",
    "    plt.legend(['Has Diabete', 'Has no Diabete'])\n",
    "    plt.xlim(-10,150)\n",
    "    plt.title(\"Diabetic Density of Numerical Variables\")\n",
    "    plt.show()\n",
    "    \n",
    "for col in num_cols:\n",
    "    target_density_est_with_num(df,\"Outcome\",col)"
   ]
  },
  {
   "cell_type": "markdown",
   "id": "c9f17512",
   "metadata": {
    "papermill": {
     "duration": 0.027108,
     "end_time": "2022-08-03T19:02:56.267707",
     "exception": false,
     "start_time": "2022-08-03T19:02:56.240599",
     "status": "completed"
    },
    "tags": []
   },
   "source": [
    "##### 1.3.4.Outliers Analysis"
   ]
  },
  {
   "cell_type": "markdown",
   "id": "e2af9076",
   "metadata": {
    "papermill": {
     "duration": 0.026981,
     "end_time": "2022-08-03T19:02:56.322217",
     "exception": false,
     "start_time": "2022-08-03T19:02:56.295236",
     "status": "completed"
    },
    "tags": []
   },
   "source": [
    "Define a Function about outlier threshold for data columns\n"
   ]
  },
  {
   "cell_type": "code",
   "execution_count": 11,
   "id": "c63319e3",
   "metadata": {
    "execution": {
     "iopub.execute_input": "2022-08-03T19:02:56.380372Z",
     "iopub.status.busy": "2022-08-03T19:02:56.379951Z",
     "iopub.status.idle": "2022-08-03T19:02:56.386125Z",
     "shell.execute_reply": "2022-08-03T19:02:56.384967Z"
    },
    "papermill": {
     "duration": 0.037965,
     "end_time": "2022-08-03T19:02:56.388247",
     "exception": false,
     "start_time": "2022-08-03T19:02:56.350282",
     "status": "completed"
    },
    "tags": []
   },
   "outputs": [],
   "source": [
    "def outlier_th(dataframe, col_name, q1=0.25, q3=0.75):\n",
    "    quartile1 = dataframe[col_name].quantile(q1)\n",
    "    quartile3 = dataframe[col_name].quantile(q3)\n",
    "    interquantile_range = quartile3 - quartile1\n",
    "    up_limit = quartile3 + 1.5 * interquantile_range\n",
    "    low_limit = quartile1 - 1.5 * interquantile_range\n",
    "    return low_limit, up_limit"
   ]
  },
  {
   "cell_type": "markdown",
   "id": "7c6cba87",
   "metadata": {
    "papermill": {
     "duration": 0.026955,
     "end_time": "2022-08-03T19:02:56.444297",
     "exception": false,
     "start_time": "2022-08-03T19:02:56.417342",
     "status": "completed"
    },
    "tags": []
   },
   "source": [
    "Define a Function about checking outlier for data columns\n"
   ]
  },
  {
   "cell_type": "code",
   "execution_count": 12,
   "id": "2bc9fc50",
   "metadata": {
    "execution": {
     "iopub.execute_input": "2022-08-03T19:02:56.501363Z",
     "iopub.status.busy": "2022-08-03T19:02:56.500932Z",
     "iopub.status.idle": "2022-08-03T19:02:56.506386Z",
     "shell.execute_reply": "2022-08-03T19:02:56.505556Z"
    },
    "papermill": {
     "duration": 0.036478,
     "end_time": "2022-08-03T19:02:56.508494",
     "exception": false,
     "start_time": "2022-08-03T19:02:56.472016",
     "status": "completed"
    },
    "tags": []
   },
   "outputs": [],
   "source": [
    "def check_outlier(dataframe, col_name):\n",
    "    low_limit, up_limit = outlier_th(dataframe, col_name)\n",
    "    if dataframe[(dataframe[col_name] > up_limit) | (dataframe[col_name] < low_limit)].any(axis=None):\n",
    "        return True\n",
    "    else:\n",
    "        return False"
   ]
  },
  {
   "cell_type": "markdown",
   "id": "94bb1184",
   "metadata": {
    "papermill": {
     "duration": 0.028049,
     "end_time": "2022-08-03T19:02:56.564684",
     "exception": false,
     "start_time": "2022-08-03T19:02:56.536635",
     "status": "completed"
    },
    "tags": []
   },
   "source": [
    "Define a Function about replace with threshold for data columns\n"
   ]
  },
  {
   "cell_type": "code",
   "execution_count": 13,
   "id": "bbff4a2f",
   "metadata": {
    "execution": {
     "iopub.execute_input": "2022-08-03T19:02:56.621313Z",
     "iopub.status.busy": "2022-08-03T19:02:56.620564Z",
     "iopub.status.idle": "2022-08-03T19:02:56.625844Z",
     "shell.execute_reply": "2022-08-03T19:02:56.625034Z"
    },
    "papermill": {
     "duration": 0.036633,
     "end_time": "2022-08-03T19:02:56.628463",
     "exception": false,
     "start_time": "2022-08-03T19:02:56.591830",
     "status": "completed"
    },
    "tags": []
   },
   "outputs": [],
   "source": [
    "def replace_with_thresholds(dataframe, variable):\n",
    "    low_limit, up_limit = outlier_th(dataframe, variable)\n",
    "    dataframe.loc[(dataframe[variable] < low_limit), variable] = low_limit\n",
    "    dataframe.loc[(dataframe[variable] > up_limit), variable] = up_limit"
   ]
  },
  {
   "cell_type": "code",
   "execution_count": 14,
   "id": "f0e49faf",
   "metadata": {
    "execution": {
     "iopub.execute_input": "2022-08-03T19:02:56.685617Z",
     "iopub.status.busy": "2022-08-03T19:02:56.685190Z",
     "iopub.status.idle": "2022-08-03T19:02:56.718871Z",
     "shell.execute_reply": "2022-08-03T19:02:56.717092Z"
    },
    "papermill": {
     "duration": 0.066037,
     "end_time": "2022-08-03T19:02:56.721802",
     "exception": false,
     "start_time": "2022-08-03T19:02:56.655765",
     "status": "completed"
    },
    "tags": []
   },
   "outputs": [
    {
     "name": "stdout",
     "output_type": "stream",
     "text": [
      "Pregnancies True\n",
      "Glucose False\n",
      "BloodPressure True\n",
      "SkinThickness True\n",
      "Insulin True\n",
      "BMI True\n",
      "DiabetesPedigreeFunction True\n",
      "Age True\n"
     ]
    }
   ],
   "source": [
    "for col in num_cols:\n",
    "    print(col, check_outlier(df, col))"
   ]
  },
  {
   "cell_type": "code",
   "execution_count": 15,
   "id": "bd8e7477",
   "metadata": {
    "execution": {
     "iopub.execute_input": "2022-08-03T19:02:56.779025Z",
     "iopub.status.busy": "2022-08-03T19:02:56.778245Z",
     "iopub.status.idle": "2022-08-03T19:02:56.806594Z",
     "shell.execute_reply": "2022-08-03T19:02:56.805381Z"
    },
    "papermill": {
     "duration": 0.059861,
     "end_time": "2022-08-03T19:02:56.809256",
     "exception": false,
     "start_time": "2022-08-03T19:02:56.749395",
     "status": "completed"
    },
    "tags": []
   },
   "outputs": [],
   "source": [
    "for col in num_cols:\n",
    "    replace_with_thresholds(df, col)"
   ]
  },
  {
   "cell_type": "code",
   "execution_count": 16,
   "id": "28c7482c",
   "metadata": {
    "execution": {
     "iopub.execute_input": "2022-08-03T19:02:56.866290Z",
     "iopub.status.busy": "2022-08-03T19:02:56.865124Z",
     "iopub.status.idle": "2022-08-03T19:02:56.898012Z",
     "shell.execute_reply": "2022-08-03T19:02:56.896276Z"
    },
    "papermill": {
     "duration": 0.064442,
     "end_time": "2022-08-03T19:02:56.900886",
     "exception": false,
     "start_time": "2022-08-03T19:02:56.836444",
     "status": "completed"
    },
    "tags": []
   },
   "outputs": [
    {
     "name": "stdout",
     "output_type": "stream",
     "text": [
      "Pregnancies False\n",
      "Glucose False\n",
      "BloodPressure False\n",
      "SkinThickness False\n",
      "Insulin False\n",
      "BMI False\n",
      "DiabetesPedigreeFunction False\n",
      "Age False\n"
     ]
    }
   ],
   "source": [
    "for col in num_cols:\n",
    "    print(col, check_outlier(df, col))"
   ]
  },
  {
   "cell_type": "markdown",
   "id": "2fc0a9fb",
   "metadata": {
    "papermill": {
     "duration": 0.027675,
     "end_time": "2022-08-03T19:02:56.956236",
     "exception": false,
     "start_time": "2022-08-03T19:02:56.928561",
     "status": "completed"
    },
    "tags": []
   },
   "source": [
    "##### 1.3.5.The Missing Values Analysis\n"
   ]
  },
  {
   "cell_type": "code",
   "execution_count": 17,
   "id": "e1ddbb86",
   "metadata": {
    "execution": {
     "iopub.execute_input": "2022-08-03T19:02:57.013723Z",
     "iopub.status.busy": "2022-08-03T19:02:57.013290Z",
     "iopub.status.idle": "2022-08-03T19:02:57.033214Z",
     "shell.execute_reply": "2022-08-03T19:02:57.031636Z"
    },
    "papermill": {
     "duration": 0.052617,
     "end_time": "2022-08-03T19:02:57.036488",
     "exception": false,
     "start_time": "2022-08-03T19:02:56.983871",
     "status": "completed"
    },
    "tags": []
   },
   "outputs": [
    {
     "name": "stdout",
     "output_type": "stream",
     "text": [
      "               n_miss  ratio\n",
      "Insulin           374  48.70\n",
      "SkinThickness     227  29.56\n",
      "BloodPressure      35   4.56\n",
      "BMI                11   1.43\n",
      "Glucose             5   0.65\n"
     ]
    }
   ],
   "source": [
    "def missing_values_table(dataframe, na_name=False):\n",
    "    na_columns = [col for col in dataframe.columns if dataframe[col].isnull().sum() > 0]\n",
    "\n",
    "    n_miss = dataframe[na_columns].isnull().sum().sort_values(ascending=False)\n",
    "    ratio = (dataframe[na_columns].isnull().sum() / dataframe.shape[0] * 100).sort_values(ascending=False)\n",
    "    missing_df = pd.concat([n_miss, np.round(ratio, 2)], axis=1, keys=['n_miss', 'ratio'])\n",
    "    print(missing_df, end=\"\\n\")\n",
    "\n",
    "    if na_name:\n",
    "        return na_columns\n",
    "\n",
    "missing_values_table(df)"
   ]
  },
  {
   "cell_type": "markdown",
   "id": "1fd45f21",
   "metadata": {
    "papermill": {
     "duration": 0.027277,
     "end_time": "2022-08-03T19:02:57.091739",
     "exception": false,
     "start_time": "2022-08-03T19:02:57.064462",
     "status": "completed"
    },
    "tags": []
   },
   "source": [
    "##### 1.3.6.Correlation Analysis"
   ]
  },
  {
   "cell_type": "code",
   "execution_count": 18,
   "id": "6e819cec",
   "metadata": {
    "execution": {
     "iopub.execute_input": "2022-08-03T19:02:57.150006Z",
     "iopub.status.busy": "2022-08-03T19:02:57.149200Z",
     "iopub.status.idle": "2022-08-03T19:02:57.166750Z",
     "shell.execute_reply": "2022-08-03T19:02:57.165581Z"
    },
    "papermill": {
     "duration": 0.049955,
     "end_time": "2022-08-03T19:02:57.169146",
     "exception": false,
     "start_time": "2022-08-03T19:02:57.119191",
     "status": "completed"
    },
    "tags": []
   },
   "outputs": [
    {
     "data": {
      "text/html": [
       "<div>\n",
       "<style scoped>\n",
       "    .dataframe tbody tr th:only-of-type {\n",
       "        vertical-align: middle;\n",
       "    }\n",
       "\n",
       "    .dataframe tbody tr th {\n",
       "        vertical-align: top;\n",
       "    }\n",
       "\n",
       "    .dataframe thead th {\n",
       "        text-align: right;\n",
       "    }\n",
       "</style>\n",
       "<table border=\"1\" class=\"dataframe\">\n",
       "  <thead>\n",
       "    <tr style=\"text-align: right;\">\n",
       "      <th></th>\n",
       "      <th>Glucose</th>\n",
       "      <th>BloodPressure</th>\n",
       "      <th>SkinThickness</th>\n",
       "      <th>Insulin</th>\n",
       "      <th>BMI</th>\n",
       "    </tr>\n",
       "  </thead>\n",
       "  <tbody>\n",
       "    <tr>\n",
       "      <th>Glucose</th>\n",
       "      <td>1.000000</td>\n",
       "      <td>0.224525</td>\n",
       "      <td>0.216705</td>\n",
       "      <td>0.613915</td>\n",
       "      <td>0.235458</td>\n",
       "    </tr>\n",
       "    <tr>\n",
       "      <th>BloodPressure</th>\n",
       "      <td>0.224525</td>\n",
       "      <td>1.000000</td>\n",
       "      <td>0.241438</td>\n",
       "      <td>0.114789</td>\n",
       "      <td>0.294827</td>\n",
       "    </tr>\n",
       "    <tr>\n",
       "      <th>SkinThickness</th>\n",
       "      <td>0.216705</td>\n",
       "      <td>0.241438</td>\n",
       "      <td>1.000000</td>\n",
       "      <td>0.200102</td>\n",
       "      <td>0.674511</td>\n",
       "    </tr>\n",
       "    <tr>\n",
       "      <th>Insulin</th>\n",
       "      <td>0.613915</td>\n",
       "      <td>0.114789</td>\n",
       "      <td>0.200102</td>\n",
       "      <td>1.000000</td>\n",
       "      <td>0.266070</td>\n",
       "    </tr>\n",
       "    <tr>\n",
       "      <th>BMI</th>\n",
       "      <td>0.235458</td>\n",
       "      <td>0.294827</td>\n",
       "      <td>0.674511</td>\n",
       "      <td>0.266070</td>\n",
       "      <td>1.000000</td>\n",
       "    </tr>\n",
       "  </tbody>\n",
       "</table>\n",
       "</div>"
      ],
      "text/plain": [
       "                Glucose  BloodPressure  SkinThickness   Insulin       BMI\n",
       "Glucose        1.000000       0.224525       0.216705  0.613915  0.235458\n",
       "BloodPressure  0.224525       1.000000       0.241438  0.114789  0.294827\n",
       "SkinThickness  0.216705       0.241438       1.000000  0.200102  0.674511\n",
       "Insulin        0.613915       0.114789       0.200102  1.000000  0.266070\n",
       "BMI            0.235458       0.294827       0.674511  0.266070  1.000000"
      ]
     },
     "execution_count": 18,
     "metadata": {},
     "output_type": "execute_result"
    }
   ],
   "source": [
    "dimension_variable = [\"Glucose\",\"BloodPressure\",\"SkinThickness\",\"Insulin\",\"BMI\"]\n",
    "corr_matrix = df[dimension_variable].corr()\n",
    "corr_matrix"
   ]
  },
  {
   "cell_type": "code",
   "execution_count": 19,
   "id": "2f024aea",
   "metadata": {
    "execution": {
     "iopub.execute_input": "2022-08-03T19:02:57.227775Z",
     "iopub.status.busy": "2022-08-03T19:02:57.226920Z",
     "iopub.status.idle": "2022-08-03T19:02:57.470202Z",
     "shell.execute_reply": "2022-08-03T19:02:57.468978Z"
    },
    "papermill": {
     "duration": 0.275875,
     "end_time": "2022-08-03T19:02:57.472646",
     "exception": false,
     "start_time": "2022-08-03T19:02:57.196771",
     "status": "completed"
    },
    "tags": []
   },
   "outputs": [
    {
     "name": "stderr",
     "output_type": "stream",
     "text": [
      "/opt/conda/lib/python3.7/site-packages/ipykernel_launcher.py:18: UserWarning: FixedFormatter should only be used together with FixedLocator\n",
      "/opt/conda/lib/python3.7/site-packages/ipykernel_launcher.py:19: UserWarning: FixedFormatter should only be used together with FixedLocator\n"
     ]
    },
    {
     "data": {
      "image/png": "[encoded data removed]",
      "text/plain": [
       "<Figure size 432x288 with 2 Axes>"
      ]
     },
     "metadata": {
      "needs_background": "light"
     },
     "output_type": "display_data"
    }
   ],
   "source": [
    "import matplotlib\n",
    "import matplotlib.pyplot as plt\n",
    "from matplotlib import cm\n",
    "\n",
    "fig, ax = plt.subplots()\n",
    "heatmap = ax.imshow(corr_matrix, interpolation='nearest', cmap=cm.coolwarm)\n",
    "\n",
    "# making the colorbar on the side\n",
    "cbar_min = corr_matrix.min().min()\n",
    "cbar_max = corr_matrix.max().max()\n",
    "cbar = fig.colorbar(heatmap, ticks=[cbar_min, cbar_max])\n",
    "\n",
    "# making the labels\n",
    "labels = ['']\n",
    "for column in dimension_variable:\n",
    "    labels.append(column)\n",
    "    labels.append('')\n",
    "ax.set_yticklabels(labels, minor=False)\n",
    "ax.set_xticklabels(labels, minor=False)\n",
    "\n",
    "plt.show()"
   ]
  },
  {
   "cell_type": "markdown",
   "id": "cea56ea0",
   "metadata": {
    "papermill": {
     "duration": 0.027722,
     "end_time": "2022-08-03T19:02:57.528581",
     "exception": false,
     "start_time": "2022-08-03T19:02:57.500859",
     "status": "completed"
    },
    "tags": []
   },
   "source": [
    "##                           2.FEATURE ENGINEERING                                      #\n"
   ]
  },
  {
   "cell_type": "markdown",
   "id": "ab05680c",
   "metadata": {
    "papermill": {
     "duration": 0.027402,
     "end_time": "2022-08-03T19:02:57.583806",
     "exception": false,
     "start_time": "2022-08-03T19:02:57.556404",
     "status": "completed"
    },
    "tags": []
   },
   "source": [
    "#### **2.1.Processing for Missing Values and Outliers**\n",
    "<a id=\"processing_for_missing_values_and_outliers\"></a>"
   ]
  },
  {
   "cell_type": "code",
   "execution_count": 20,
   "id": "dc7e0a5d",
   "metadata": {
    "execution": {
     "iopub.execute_input": "2022-08-03T19:02:57.641488Z",
     "iopub.status.busy": "2022-08-03T19:02:57.640837Z",
     "iopub.status.idle": "2022-08-03T19:02:57.655172Z",
     "shell.execute_reply": "2022-08-03T19:02:57.653988Z"
    },
    "papermill": {
     "duration": 0.046265,
     "end_time": "2022-08-03T19:02:57.657837",
     "exception": false,
     "start_time": "2022-08-03T19:02:57.611572",
     "status": "completed"
    },
    "tags": []
   },
   "outputs": [
    {
     "name": "stdout",
     "output_type": "stream",
     "text": [
      "               n_miss  ratio\n",
      "Insulin           374  48.70\n",
      "SkinThickness     227  29.56\n",
      "BloodPressure      35   4.56\n",
      "BMI                11   1.43\n",
      "Glucose             5   0.65\n"
     ]
    }
   ],
   "source": [
    "na_cols = missing_values_table(df, True)\n"
   ]
  },
  {
   "cell_type": "markdown",
   "id": "58b72682",
   "metadata": {
    "papermill": {
     "duration": 0.027638,
     "end_time": "2022-08-03T19:02:57.713553",
     "exception": false,
     "start_time": "2022-08-03T19:02:57.685915",
     "status": "completed"
    },
    "tags": []
   },
   "source": [
    "Define a Function about comparing target variable with missing values"
   ]
  },
  {
   "cell_type": "code",
   "execution_count": 21,
   "id": "ffd92102",
   "metadata": {
    "execution": {
     "iopub.execute_input": "2022-08-03T19:02:57.771299Z",
     "iopub.status.busy": "2022-08-03T19:02:57.770873Z",
     "iopub.status.idle": "2022-08-03T19:02:57.800944Z",
     "shell.execute_reply": "2022-08-03T19:02:57.799280Z"
    },
    "papermill": {
     "duration": 0.062994,
     "end_time": "2022-08-03T19:02:57.804375",
     "exception": false,
     "start_time": "2022-08-03T19:02:57.741381",
     "status": "completed"
    },
    "tags": []
   },
   "outputs": [
    {
     "name": "stdout",
     "output_type": "stream",
     "text": [
      "                 TARGET_MEAN  Count\n",
      "Glucose_NA_FLAG                    \n",
      "0                   0.348624    763\n",
      "1                   0.400000      5\n",
      "\n",
      "\n",
      "                       TARGET_MEAN  Count\n",
      "BloodPressure_NA_FLAG                    \n",
      "0                         0.343793    733\n",
      "1                         0.457143     35\n",
      "\n",
      "\n",
      "                       TARGET_MEAN  Count\n",
      "SkinThickness_NA_FLAG                    \n",
      "0                         0.332717    541\n",
      "1                         0.387665    227\n",
      "\n",
      "\n",
      "                 TARGET_MEAN  Count\n",
      "Insulin_NA_FLAG                    \n",
      "0                   0.329949    394\n",
      "1                   0.368984    374\n",
      "\n",
      "\n",
      "             TARGET_MEAN  Count\n",
      "BMI_NA_FLAG                    \n",
      "0               0.351387    757\n",
      "1               0.181818     11\n",
      "\n",
      "\n"
     ]
    }
   ],
   "source": [
    "def missing_vs_target(dataframe, target, na_columns):\n",
    "    temp_df = dataframe.copy()\n",
    "    for col in na_columns:\n",
    "        temp_df[col + '_NA_FLAG'] = np.where(temp_df[col].isnull(), 1, 0)\n",
    "\n",
    "    na_flags = temp_df.loc[:, temp_df.columns.str.contains(\"_NA_\")].columns\n",
    "\n",
    "    for col in na_flags:\n",
    "        print(pd.DataFrame({\"TARGET_MEAN\": temp_df.groupby(col)[target].mean(),\n",
    "                            \"Count\": temp_df.groupby(col)[target].count()}), end=\"\\n\\n\\n\")\n",
    "\n",
    "\n",
    "missing_vs_target(df, \"Outcome\", na_cols)"
   ]
  },
  {
   "cell_type": "markdown",
   "id": "64be9a5c",
   "metadata": {
    "papermill": {
     "duration": 0.028089,
     "end_time": "2022-08-03T19:02:57.861708",
     "exception": false,
     "start_time": "2022-08-03T19:02:57.833619",
     "status": "completed"
    },
    "tags": []
   },
   "source": [
    "**Conclusion:**\n",
    "We examined the missing values of each variable according to the target variable.\n",
    "So we decided to apply different methods in order to fill na values according to state of each variable.\n"
   ]
  },
  {
   "cell_type": "markdown",
   "id": "9a1cc702",
   "metadata": {
    "papermill": {
     "duration": 0.028098,
     "end_time": "2022-08-03T19:02:57.918162",
     "exception": false,
     "start_time": "2022-08-03T19:02:57.890064",
     "status": "completed"
    },
    "tags": []
   },
   "source": [
    "Fill the missing values of some variables with the median\n"
   ]
  },
  {
   "cell_type": "code",
   "execution_count": 22,
   "id": "c4fbd006",
   "metadata": {
    "execution": {
     "iopub.execute_input": "2022-08-03T19:02:57.977332Z",
     "iopub.status.busy": "2022-08-03T19:02:57.976921Z",
     "iopub.status.idle": "2022-08-03T19:02:57.985071Z",
     "shell.execute_reply": "2022-08-03T19:02:57.984131Z"
    },
    "papermill": {
     "duration": 0.040476,
     "end_time": "2022-08-03T19:02:57.987169",
     "exception": false,
     "start_time": "2022-08-03T19:02:57.946693",
     "status": "completed"
    },
    "tags": []
   },
   "outputs": [],
   "source": [
    "df[\"Glucose\"] = df[\"Glucose\"].fillna(df[\"Glucose\"].median())\n",
    "df[\"BloodPressure\"] = df[\"BloodPressure\"].fillna(df[\"BloodPressure\"].median())\n",
    "df[\"BMI\"] = df[\"BMI\"].fillna(df[\"BMI\"].median())"
   ]
  },
  {
   "cell_type": "markdown",
   "id": "27929877",
   "metadata": {
    "papermill": {
     "duration": 0.028811,
     "end_time": "2022-08-03T19:02:58.045033",
     "exception": false,
     "start_time": "2022-08-03T19:02:58.016222",
     "status": "completed"
    },
    "tags": []
   },
   "source": [
    "Fill the missing values of \"Insulin\" and \"SkinThickness variables by implementing the KNN method\n"
   ]
  },
  {
   "cell_type": "code",
   "execution_count": 23,
   "id": "9a8e62e2",
   "metadata": {
    "execution": {
     "iopub.execute_input": "2022-08-03T19:02:58.103098Z",
     "iopub.status.busy": "2022-08-03T19:02:58.102633Z",
     "iopub.status.idle": "2022-08-03T19:02:58.111889Z",
     "shell.execute_reply": "2022-08-03T19:02:58.111020Z"
    },
    "papermill": {
     "duration": 0.040877,
     "end_time": "2022-08-03T19:02:58.114106",
     "exception": false,
     "start_time": "2022-08-03T19:02:58.073229",
     "status": "completed"
    },
    "tags": []
   },
   "outputs": [],
   "source": [
    "dff = pd.get_dummies(df[[\"Insulin\",\"SkinThickness\"]], drop_first=True)"
   ]
  },
  {
   "cell_type": "markdown",
   "id": "4ac03fbf",
   "metadata": {
    "papermill": {
     "duration": 0.027593,
     "end_time": "2022-08-03T19:02:58.170107",
     "exception": false,
     "start_time": "2022-08-03T19:02:58.142514",
     "status": "completed"
    },
    "tags": []
   },
   "source": [
    "Standardization of variables\n"
   ]
  },
  {
   "cell_type": "code",
   "execution_count": 24,
   "id": "c2c09e2f",
   "metadata": {
    "execution": {
     "iopub.execute_input": "2022-08-03T19:02:58.227883Z",
     "iopub.status.busy": "2022-08-03T19:02:58.227468Z",
     "iopub.status.idle": "2022-08-03T19:02:58.243105Z",
     "shell.execute_reply": "2022-08-03T19:02:58.241629Z"
    },
    "papermill": {
     "duration": 0.04756,
     "end_time": "2022-08-03T19:02:58.245639",
     "exception": false,
     "start_time": "2022-08-03T19:02:58.198079",
     "status": "completed"
    },
    "tags": []
   },
   "outputs": [
    {
     "data": {
      "text/html": [
       "<div>\n",
       "<style scoped>\n",
       "    .dataframe tbody tr th:only-of-type {\n",
       "        vertical-align: middle;\n",
       "    }\n",
       "\n",
       "    .dataframe tbody tr th {\n",
       "        vertical-align: top;\n",
       "    }\n",
       "\n",
       "    .dataframe thead th {\n",
       "        text-align: right;\n",
       "    }\n",
       "</style>\n",
       "<table border=\"1\" class=\"dataframe\">\n",
       "  <thead>\n",
       "    <tr style=\"text-align: right;\">\n",
       "      <th></th>\n",
       "      <th>Insulin</th>\n",
       "      <th>SkinThickness</th>\n",
       "    </tr>\n",
       "  </thead>\n",
       "  <tbody>\n",
       "    <tr>\n",
       "      <th>0</th>\n",
       "      <td>NaN</td>\n",
       "      <td>0.56</td>\n",
       "    </tr>\n",
       "    <tr>\n",
       "      <th>1</th>\n",
       "      <td>NaN</td>\n",
       "      <td>0.44</td>\n",
       "    </tr>\n",
       "    <tr>\n",
       "      <th>2</th>\n",
       "      <td>NaN</td>\n",
       "      <td>NaN</td>\n",
       "    </tr>\n",
       "    <tr>\n",
       "      <th>3</th>\n",
       "      <td>0.230797</td>\n",
       "      <td>0.32</td>\n",
       "    </tr>\n",
       "    <tr>\n",
       "      <th>4</th>\n",
       "      <td>0.444284</td>\n",
       "      <td>0.56</td>\n",
       "    </tr>\n",
       "  </tbody>\n",
       "</table>\n",
       "</div>"
      ],
      "text/plain": [
       "    Insulin  SkinThickness\n",
       "0       NaN           0.56\n",
       "1       NaN           0.44\n",
       "2       NaN            NaN\n",
       "3  0.230797           0.32\n",
       "4  0.444284           0.56"
      ]
     },
     "execution_count": 24,
     "metadata": {},
     "output_type": "execute_result"
    }
   ],
   "source": [
    "scaler = MinMaxScaler()\n",
    "dff = pd.DataFrame(scaler.fit_transform(dff), columns=dff.columns)\n",
    "dff.head()"
   ]
  },
  {
   "cell_type": "markdown",
   "id": "33650672",
   "metadata": {
    "papermill": {
     "duration": 0.027592,
     "end_time": "2022-08-03T19:02:58.301159",
     "exception": false,
     "start_time": "2022-08-03T19:02:58.273567",
     "status": "completed"
    },
    "tags": []
   },
   "source": [
    "Implement the KNN method\n"
   ]
  },
  {
   "cell_type": "code",
   "execution_count": 25,
   "id": "28e20e64",
   "metadata": {
    "execution": {
     "iopub.execute_input": "2022-08-03T19:02:58.359968Z",
     "iopub.status.busy": "2022-08-03T19:02:58.359570Z",
     "iopub.status.idle": "2022-08-03T19:02:58.370749Z",
     "shell.execute_reply": "2022-08-03T19:02:58.369606Z"
    },
    "papermill": {
     "duration": 0.043231,
     "end_time": "2022-08-03T19:02:58.373165",
     "exception": false,
     "start_time": "2022-08-03T19:02:58.329934",
     "status": "completed"
    },
    "tags": []
   },
   "outputs": [],
   "source": [
    "from sklearn.impute import KNNImputer\n",
    "imputer = KNNImputer(n_neighbors=5)"
   ]
  },
  {
   "cell_type": "code",
   "execution_count": 26,
   "id": "8f1bae3e",
   "metadata": {
    "execution": {
     "iopub.execute_input": "2022-08-03T19:02:58.432611Z",
     "iopub.status.busy": "2022-08-03T19:02:58.432198Z",
     "iopub.status.idle": "2022-08-03T19:02:58.490653Z",
     "shell.execute_reply": "2022-08-03T19:02:58.489023Z"
    },
    "papermill": {
     "duration": 0.092949,
     "end_time": "2022-08-03T19:02:58.495132",
     "exception": false,
     "start_time": "2022-08-03T19:02:58.402183",
     "status": "completed"
    },
    "tags": []
   },
   "outputs": [
    {
     "data": {
      "text/html": [
       "<div>\n",
       "<style scoped>\n",
       "    .dataframe tbody tr th:only-of-type {\n",
       "        vertical-align: middle;\n",
       "    }\n",
       "\n",
       "    .dataframe tbody tr th {\n",
       "        vertical-align: top;\n",
       "    }\n",
       "\n",
       "    .dataframe thead th {\n",
       "        text-align: right;\n",
       "    }\n",
       "</style>\n",
       "<table border=\"1\" class=\"dataframe\">\n",
       "  <thead>\n",
       "    <tr style=\"text-align: right;\">\n",
       "      <th></th>\n",
       "      <th>Insulin</th>\n",
       "      <th>SkinThickness</th>\n",
       "    </tr>\n",
       "  </thead>\n",
       "  <tbody>\n",
       "    <tr>\n",
       "      <th>0</th>\n",
       "      <td>0.591201</td>\n",
       "      <td>0.560000</td>\n",
       "    </tr>\n",
       "    <tr>\n",
       "      <th>1</th>\n",
       "      <td>0.477173</td>\n",
       "      <td>0.440000</td>\n",
       "    </tr>\n",
       "    <tr>\n",
       "      <th>2</th>\n",
       "      <td>0.382257</td>\n",
       "      <td>0.441183</td>\n",
       "    </tr>\n",
       "    <tr>\n",
       "      <th>3</th>\n",
       "      <td>0.230797</td>\n",
       "      <td>0.320000</td>\n",
       "    </tr>\n",
       "    <tr>\n",
       "      <th>4</th>\n",
       "      <td>0.444284</td>\n",
       "      <td>0.560000</td>\n",
       "    </tr>\n",
       "  </tbody>\n",
       "</table>\n",
       "</div>"
      ],
      "text/plain": [
       "    Insulin  SkinThickness\n",
       "0  0.591201       0.560000\n",
       "1  0.477173       0.440000\n",
       "2  0.382257       0.441183\n",
       "3  0.230797       0.320000\n",
       "4  0.444284       0.560000"
      ]
     },
     "execution_count": 26,
     "metadata": {},
     "output_type": "execute_result"
    }
   ],
   "source": [
    "dff = pd.DataFrame(imputer.fit_transform(dff), columns=dff.columns)\n",
    "dff.head()"
   ]
  },
  {
   "cell_type": "markdown",
   "id": "b8ab7e77",
   "metadata": {
    "papermill": {
     "duration": 0.035074,
     "end_time": "2022-08-03T19:02:58.603549",
     "exception": false,
     "start_time": "2022-08-03T19:02:58.568475",
     "status": "completed"
    },
    "tags": []
   },
   "source": [
    "Undo the standardization of these variables\n"
   ]
  },
  {
   "cell_type": "code",
   "execution_count": 27,
   "id": "8eea5d9a",
   "metadata": {
    "execution": {
     "iopub.execute_input": "2022-08-03T19:02:58.661811Z",
     "iopub.status.busy": "2022-08-03T19:02:58.661427Z",
     "iopub.status.idle": "2022-08-03T19:02:58.673764Z",
     "shell.execute_reply": "2022-08-03T19:02:58.672930Z"
    },
    "papermill": {
     "duration": 0.044005,
     "end_time": "2022-08-03T19:02:58.675824",
     "exception": false,
     "start_time": "2022-08-03T19:02:58.631819",
     "status": "completed"
    },
    "tags": []
   },
   "outputs": [
    {
     "data": {
      "text/html": [
       "<div>\n",
       "<style scoped>\n",
       "    .dataframe tbody tr th:only-of-type {\n",
       "        vertical-align: middle;\n",
       "    }\n",
       "\n",
       "    .dataframe tbody tr th {\n",
       "        vertical-align: top;\n",
       "    }\n",
       "\n",
       "    .dataframe thead th {\n",
       "        text-align: right;\n",
       "    }\n",
       "</style>\n",
       "<table border=\"1\" class=\"dataframe\">\n",
       "  <thead>\n",
       "    <tr style=\"text-align: right;\">\n",
       "      <th></th>\n",
       "      <th>Insulin</th>\n",
       "      <th>SkinThickness</th>\n",
       "    </tr>\n",
       "  </thead>\n",
       "  <tbody>\n",
       "    <tr>\n",
       "      <th>0</th>\n",
       "      <td>218.925</td>\n",
       "      <td>35.00000</td>\n",
       "    </tr>\n",
       "    <tr>\n",
       "      <th>1</th>\n",
       "      <td>179.400</td>\n",
       "      <td>29.00000</td>\n",
       "    </tr>\n",
       "    <tr>\n",
       "      <th>2</th>\n",
       "      <td>146.500</td>\n",
       "      <td>29.05915</td>\n",
       "    </tr>\n",
       "    <tr>\n",
       "      <th>3</th>\n",
       "      <td>94.000</td>\n",
       "      <td>23.00000</td>\n",
       "    </tr>\n",
       "    <tr>\n",
       "      <th>4</th>\n",
       "      <td>168.000</td>\n",
       "      <td>35.00000</td>\n",
       "    </tr>\n",
       "  </tbody>\n",
       "</table>\n",
       "</div>"
      ],
      "text/plain": [
       "   Insulin  SkinThickness\n",
       "0  218.925       35.00000\n",
       "1  179.400       29.00000\n",
       "2  146.500       29.05915\n",
       "3   94.000       23.00000\n",
       "4  168.000       35.00000"
      ]
     },
     "execution_count": 27,
     "metadata": {},
     "output_type": "execute_result"
    }
   ],
   "source": [
    "dff = pd.DataFrame(scaler.inverse_transform(dff), columns=dff.columns)\n",
    "dff.head()"
   ]
  },
  {
   "cell_type": "code",
   "execution_count": 28,
   "id": "5fd3206d",
   "metadata": {
    "execution": {
     "iopub.execute_input": "2022-08-03T19:02:58.736312Z",
     "iopub.status.busy": "2022-08-03T19:02:58.735061Z",
     "iopub.status.idle": "2022-08-03T19:02:58.741071Z",
     "shell.execute_reply": "2022-08-03T19:02:58.740129Z"
    },
    "papermill": {
     "duration": 0.038417,
     "end_time": "2022-08-03T19:02:58.743377",
     "exception": false,
     "start_time": "2022-08-03T19:02:58.704960",
     "status": "completed"
    },
    "tags": []
   },
   "outputs": [],
   "source": [
    "df[\"Insulin\"] = dff[\"Insulin\"]\n",
    "df[\"SkinThickness\"]= dff[\"SkinThickness\"]"
   ]
  },
  {
   "cell_type": "code",
   "execution_count": 29,
   "id": "f0fd24e8",
   "metadata": {
    "execution": {
     "iopub.execute_input": "2022-08-03T19:02:58.803628Z",
     "iopub.status.busy": "2022-08-03T19:02:58.801501Z",
     "iopub.status.idle": "2022-08-03T19:02:58.811023Z",
     "shell.execute_reply": "2022-08-03T19:02:58.810138Z"
    },
    "papermill": {
     "duration": 0.041355,
     "end_time": "2022-08-03T19:02:58.813214",
     "exception": false,
     "start_time": "2022-08-03T19:02:58.771859",
     "status": "completed"
    },
    "tags": []
   },
   "outputs": [
    {
     "data": {
      "text/plain": [
       "Pregnancies                 0\n",
       "Glucose                     0\n",
       "BloodPressure               0\n",
       "SkinThickness               0\n",
       "Insulin                     0\n",
       "BMI                         0\n",
       "DiabetesPedigreeFunction    0\n",
       "Age                         0\n",
       "Outcome                     0\n",
       "dtype: int64"
      ]
     },
     "execution_count": 29,
     "metadata": {},
     "output_type": "execute_result"
    }
   ],
   "source": [
    "df.isnull().sum()"
   ]
  },
  {
   "cell_type": "markdown",
   "id": "4d339049",
   "metadata": {
    "papermill": {
     "duration": 0.029089,
     "end_time": "2022-08-03T19:02:58.871195",
     "exception": false,
     "start_time": "2022-08-03T19:02:58.842106",
     "status": "completed"
    },
    "tags": []
   },
   "source": [
    "#### **2.2.Creating New Feature Interactions**\n",
    "<a id=\"creating_new_feature_interactions\"></a>"
   ]
  },
  {
   "cell_type": "code",
   "execution_count": 30,
   "id": "134177f8",
   "metadata": {
    "execution": {
     "iopub.execute_input": "2022-08-03T19:02:58.931471Z",
     "iopub.status.busy": "2022-08-03T19:02:58.930670Z",
     "iopub.status.idle": "2022-08-03T19:02:58.947914Z",
     "shell.execute_reply": "2022-08-03T19:02:58.947068Z"
    },
    "papermill": {
     "duration": 0.050158,
     "end_time": "2022-08-03T19:02:58.950122",
     "exception": false,
     "start_time": "2022-08-03T19:02:58.899964",
     "status": "completed"
    },
    "tags": []
   },
   "outputs": [
    {
     "data": {
      "text/html": [
       "<div>\n",
       "<style scoped>\n",
       "    .dataframe tbody tr th:only-of-type {\n",
       "        vertical-align: middle;\n",
       "    }\n",
       "\n",
       "    .dataframe tbody tr th {\n",
       "        vertical-align: top;\n",
       "    }\n",
       "\n",
       "    .dataframe thead th {\n",
       "        text-align: right;\n",
       "    }\n",
       "</style>\n",
       "<table border=\"1\" class=\"dataframe\">\n",
       "  <thead>\n",
       "    <tr style=\"text-align: right;\">\n",
       "      <th></th>\n",
       "      <th>Pregnancies</th>\n",
       "      <th>Glucose</th>\n",
       "      <th>BloodPressure</th>\n",
       "      <th>SkinThickness</th>\n",
       "      <th>Insulin</th>\n",
       "      <th>BMI</th>\n",
       "      <th>DiabetesPedigreeFunction</th>\n",
       "      <th>Age</th>\n",
       "      <th>Outcome</th>\n",
       "    </tr>\n",
       "  </thead>\n",
       "  <tbody>\n",
       "    <tr>\n",
       "      <th>0</th>\n",
       "      <td>6.0</td>\n",
       "      <td>148.0</td>\n",
       "      <td>72.0</td>\n",
       "      <td>35.00000</td>\n",
       "      <td>218.925</td>\n",
       "      <td>33.6</td>\n",
       "      <td>0.627</td>\n",
       "      <td>50.0</td>\n",
       "      <td>1</td>\n",
       "    </tr>\n",
       "    <tr>\n",
       "      <th>1</th>\n",
       "      <td>1.0</td>\n",
       "      <td>85.0</td>\n",
       "      <td>66.0</td>\n",
       "      <td>29.00000</td>\n",
       "      <td>179.400</td>\n",
       "      <td>26.6</td>\n",
       "      <td>0.351</td>\n",
       "      <td>31.0</td>\n",
       "      <td>0</td>\n",
       "    </tr>\n",
       "    <tr>\n",
       "      <th>2</th>\n",
       "      <td>8.0</td>\n",
       "      <td>183.0</td>\n",
       "      <td>64.0</td>\n",
       "      <td>29.05915</td>\n",
       "      <td>146.500</td>\n",
       "      <td>23.3</td>\n",
       "      <td>0.672</td>\n",
       "      <td>32.0</td>\n",
       "      <td>1</td>\n",
       "    </tr>\n",
       "    <tr>\n",
       "      <th>3</th>\n",
       "      <td>1.0</td>\n",
       "      <td>89.0</td>\n",
       "      <td>66.0</td>\n",
       "      <td>23.00000</td>\n",
       "      <td>94.000</td>\n",
       "      <td>28.1</td>\n",
       "      <td>0.167</td>\n",
       "      <td>21.0</td>\n",
       "      <td>0</td>\n",
       "    </tr>\n",
       "    <tr>\n",
       "      <th>4</th>\n",
       "      <td>0.0</td>\n",
       "      <td>137.0</td>\n",
       "      <td>40.0</td>\n",
       "      <td>35.00000</td>\n",
       "      <td>168.000</td>\n",
       "      <td>43.1</td>\n",
       "      <td>1.200</td>\n",
       "      <td>33.0</td>\n",
       "      <td>1</td>\n",
       "    </tr>\n",
       "  </tbody>\n",
       "</table>\n",
       "</div>"
      ],
      "text/plain": [
       "   Pregnancies  Glucose  BloodPressure  SkinThickness  Insulin   BMI  \\\n",
       "0          6.0    148.0           72.0       35.00000  218.925  33.6   \n",
       "1          1.0     85.0           66.0       29.00000  179.400  26.6   \n",
       "2          8.0    183.0           64.0       29.05915  146.500  23.3   \n",
       "3          1.0     89.0           66.0       23.00000   94.000  28.1   \n",
       "4          0.0    137.0           40.0       35.00000  168.000  43.1   \n",
       "\n",
       "   DiabetesPedigreeFunction   Age  Outcome  \n",
       "0                     0.627  50.0        1  \n",
       "1                     0.351  31.0        0  \n",
       "2                     0.672  32.0        1  \n",
       "3                     0.167  21.0        0  \n",
       "4                     1.200  33.0        1  "
      ]
     },
     "execution_count": 30,
     "metadata": {},
     "output_type": "execute_result"
    }
   ],
   "source": [
    "df.head()"
   ]
  },
  {
   "cell_type": "markdown",
   "id": "e414fb7a",
   "metadata": {
    "papermill": {
     "duration": 0.029436,
     "end_time": "2022-08-03T19:02:59.008968",
     "exception": false,
     "start_time": "2022-08-03T19:02:58.979532",
     "status": "completed"
    },
    "tags": []
   },
   "source": [
    "**Create a Glucose Categorical variable**"
   ]
  },
  {
   "cell_type": "code",
   "execution_count": 31,
   "id": "fffbac1f",
   "metadata": {
    "execution": {
     "iopub.execute_input": "2022-08-03T19:02:59.069632Z",
     "iopub.status.busy": "2022-08-03T19:02:59.068270Z",
     "iopub.status.idle": "2022-08-03T19:02:59.079847Z",
     "shell.execute_reply": "2022-08-03T19:02:59.078878Z"
    },
    "papermill": {
     "duration": 0.044393,
     "end_time": "2022-08-03T19:02:59.082571",
     "exception": false,
     "start_time": "2022-08-03T19:02:59.038178",
     "status": "completed"
    },
    "tags": []
   },
   "outputs": [],
   "source": [
    "df.loc[(df['Glucose'] < 70), 'GLUCOSE_CAT'] =\"hipoglisemi\"\n",
    "df.loc[(df['Glucose'] >= 70) & (df['Glucose'] < 100) , 'GLUCOSE_CAT'] =\"normal\"\n",
    "df.loc[(df['Glucose'] >= 100) & (df['Glucose'] < 126) , 'GLUCOSE_CAT'] =\"imparied glucose\"\n",
    "df.loc[(df['Glucose'] >= 126), 'GLUCOSE_CAT'] =\"hiperglisemi\""
   ]
  },
  {
   "cell_type": "code",
   "execution_count": 32,
   "id": "a81ebe33",
   "metadata": {
    "execution": {
     "iopub.execute_input": "2022-08-03T19:02:59.143084Z",
     "iopub.status.busy": "2022-08-03T19:02:59.142443Z",
     "iopub.status.idle": "2022-08-03T19:02:59.156415Z",
     "shell.execute_reply": "2022-08-03T19:02:59.155534Z"
    },
    "papermill": {
     "duration": 0.047241,
     "end_time": "2022-08-03T19:02:59.158687",
     "exception": false,
     "start_time": "2022-08-03T19:02:59.111446",
     "status": "completed"
    },
    "tags": []
   },
   "outputs": [
    {
     "data": {
      "text/html": [
       "<div>\n",
       "<style scoped>\n",
       "    .dataframe tbody tr th:only-of-type {\n",
       "        vertical-align: middle;\n",
       "    }\n",
       "\n",
       "    .dataframe tbody tr th {\n",
       "        vertical-align: top;\n",
       "    }\n",
       "\n",
       "    .dataframe thead tr th {\n",
       "        text-align: left;\n",
       "    }\n",
       "\n",
       "    .dataframe thead tr:last-of-type th {\n",
       "        text-align: right;\n",
       "    }\n",
       "</style>\n",
       "<table border=\"1\" class=\"dataframe\">\n",
       "  <thead>\n",
       "    <tr>\n",
       "      <th></th>\n",
       "      <th colspan=\"2\" halign=\"left\">Outcome</th>\n",
       "    </tr>\n",
       "    <tr>\n",
       "      <th></th>\n",
       "      <th>mean</th>\n",
       "      <th>count</th>\n",
       "    </tr>\n",
       "    <tr>\n",
       "      <th>GLUCOSE_CAT</th>\n",
       "      <th></th>\n",
       "      <th></th>\n",
       "    </tr>\n",
       "  </thead>\n",
       "  <tbody>\n",
       "    <tr>\n",
       "      <th>hiperglisemi</th>\n",
       "      <td>0.592593</td>\n",
       "      <td>297</td>\n",
       "    </tr>\n",
       "    <tr>\n",
       "      <th>hipoglisemi</th>\n",
       "      <td>0.000000</td>\n",
       "      <td>11</td>\n",
       "    </tr>\n",
       "    <tr>\n",
       "      <th>imparied glucose</th>\n",
       "      <td>0.279570</td>\n",
       "      <td>279</td>\n",
       "    </tr>\n",
       "    <tr>\n",
       "      <th>normal</th>\n",
       "      <td>0.077348</td>\n",
       "      <td>181</td>\n",
       "    </tr>\n",
       "  </tbody>\n",
       "</table>\n",
       "</div>"
      ],
      "text/plain": [
       "                   Outcome      \n",
       "                      mean count\n",
       "GLUCOSE_CAT                     \n",
       "hiperglisemi      0.592593   297\n",
       "hipoglisemi       0.000000    11\n",
       "imparied glucose  0.279570   279\n",
       "normal            0.077348   181"
      ]
     },
     "execution_count": 32,
     "metadata": {},
     "output_type": "execute_result"
    }
   ],
   "source": [
    "df.groupby(\"GLUCOSE_CAT\").agg({\"Outcome\": [\"mean\",\"count\"]})"
   ]
  },
  {
   "cell_type": "markdown",
   "id": "dde48e09",
   "metadata": {
    "papermill": {
     "duration": 0.030719,
     "end_time": "2022-08-03T19:02:59.218869",
     "exception": false,
     "start_time": "2022-08-03T19:02:59.188150",
     "status": "completed"
    },
    "tags": []
   },
   "source": [
    "> Women with hyperglycemia will have a higher incidence of diabetes on average the \"Outcome\"."
   ]
  },
  {
   "cell_type": "code",
   "execution_count": 33,
   "id": "812e2fe1",
   "metadata": {
    "execution": {
     "iopub.execute_input": "2022-08-03T19:02:59.280157Z",
     "iopub.status.busy": "2022-08-03T19:02:59.279516Z",
     "iopub.status.idle": "2022-08-03T19:02:59.298688Z",
     "shell.execute_reply": "2022-08-03T19:02:59.297693Z"
    },
    "papermill": {
     "duration": 0.052547,
     "end_time": "2022-08-03T19:02:59.301013",
     "exception": false,
     "start_time": "2022-08-03T19:02:59.248466",
     "status": "completed"
    },
    "tags": []
   },
   "outputs": [
    {
     "data": {
      "text/html": [
       "<div>\n",
       "<style scoped>\n",
       "    .dataframe tbody tr th:only-of-type {\n",
       "        vertical-align: middle;\n",
       "    }\n",
       "\n",
       "    .dataframe tbody tr th {\n",
       "        vertical-align: top;\n",
       "    }\n",
       "\n",
       "    .dataframe thead th {\n",
       "        text-align: right;\n",
       "    }\n",
       "</style>\n",
       "<table border=\"1\" class=\"dataframe\">\n",
       "  <thead>\n",
       "    <tr style=\"text-align: right;\">\n",
       "      <th></th>\n",
       "      <th>Pregnancies</th>\n",
       "      <th>Glucose</th>\n",
       "      <th>BloodPressure</th>\n",
       "      <th>SkinThickness</th>\n",
       "      <th>Insulin</th>\n",
       "      <th>BMI</th>\n",
       "      <th>DiabetesPedigreeFunction</th>\n",
       "      <th>Age</th>\n",
       "      <th>Outcome</th>\n",
       "      <th>GLUCOSE_CAT</th>\n",
       "    </tr>\n",
       "  </thead>\n",
       "  <tbody>\n",
       "    <tr>\n",
       "      <th>0</th>\n",
       "      <td>6.0</td>\n",
       "      <td>148.0</td>\n",
       "      <td>72.0</td>\n",
       "      <td>35.00000</td>\n",
       "      <td>218.925</td>\n",
       "      <td>33.6</td>\n",
       "      <td>0.627</td>\n",
       "      <td>50.0</td>\n",
       "      <td>1</td>\n",
       "      <td>hiperglisemi</td>\n",
       "    </tr>\n",
       "    <tr>\n",
       "      <th>1</th>\n",
       "      <td>1.0</td>\n",
       "      <td>85.0</td>\n",
       "      <td>66.0</td>\n",
       "      <td>29.00000</td>\n",
       "      <td>179.400</td>\n",
       "      <td>26.6</td>\n",
       "      <td>0.351</td>\n",
       "      <td>31.0</td>\n",
       "      <td>0</td>\n",
       "      <td>normal</td>\n",
       "    </tr>\n",
       "    <tr>\n",
       "      <th>2</th>\n",
       "      <td>8.0</td>\n",
       "      <td>183.0</td>\n",
       "      <td>64.0</td>\n",
       "      <td>29.05915</td>\n",
       "      <td>146.500</td>\n",
       "      <td>23.3</td>\n",
       "      <td>0.672</td>\n",
       "      <td>32.0</td>\n",
       "      <td>1</td>\n",
       "      <td>hiperglisemi</td>\n",
       "    </tr>\n",
       "    <tr>\n",
       "      <th>3</th>\n",
       "      <td>1.0</td>\n",
       "      <td>89.0</td>\n",
       "      <td>66.0</td>\n",
       "      <td>23.00000</td>\n",
       "      <td>94.000</td>\n",
       "      <td>28.1</td>\n",
       "      <td>0.167</td>\n",
       "      <td>21.0</td>\n",
       "      <td>0</td>\n",
       "      <td>normal</td>\n",
       "    </tr>\n",
       "    <tr>\n",
       "      <th>4</th>\n",
       "      <td>0.0</td>\n",
       "      <td>137.0</td>\n",
       "      <td>40.0</td>\n",
       "      <td>35.00000</td>\n",
       "      <td>168.000</td>\n",
       "      <td>43.1</td>\n",
       "      <td>1.200</td>\n",
       "      <td>33.0</td>\n",
       "      <td>1</td>\n",
       "      <td>hiperglisemi</td>\n",
       "    </tr>\n",
       "  </tbody>\n",
       "</table>\n",
       "</div>"
      ],
      "text/plain": [
       "   Pregnancies  Glucose  BloodPressure  SkinThickness  Insulin   BMI  \\\n",
       "0          6.0    148.0           72.0       35.00000  218.925  33.6   \n",
       "1          1.0     85.0           66.0       29.00000  179.400  26.6   \n",
       "2          8.0    183.0           64.0       29.05915  146.500  23.3   \n",
       "3          1.0     89.0           66.0       23.00000   94.000  28.1   \n",
       "4          0.0    137.0           40.0       35.00000  168.000  43.1   \n",
       "\n",
       "   DiabetesPedigreeFunction   Age  Outcome   GLUCOSE_CAT  \n",
       "0                     0.627  50.0        1  hiperglisemi  \n",
       "1                     0.351  31.0        0        normal  \n",
       "2                     0.672  32.0        1  hiperglisemi  \n",
       "3                     0.167  21.0        0        normal  \n",
       "4                     1.200  33.0        1  hiperglisemi  "
      ]
     },
     "execution_count": 33,
     "metadata": {},
     "output_type": "execute_result"
    }
   ],
   "source": [
    "df.head()"
   ]
  },
  {
   "cell_type": "markdown",
   "id": "ca330034",
   "metadata": {
    "papermill": {
     "duration": 0.029508,
     "end_time": "2022-08-03T19:02:59.360091",
     "exception": false,
     "start_time": "2022-08-03T19:02:59.330583",
     "status": "completed"
    },
    "tags": []
   },
   "source": [
    "**Create the Age Categorical variable**"
   ]
  },
  {
   "cell_type": "code",
   "execution_count": 34,
   "id": "38680d42",
   "metadata": {
    "execution": {
     "iopub.execute_input": "2022-08-03T19:02:59.422969Z",
     "iopub.status.busy": "2022-08-03T19:02:59.421844Z",
     "iopub.status.idle": "2022-08-03T19:02:59.435566Z",
     "shell.execute_reply": "2022-08-03T19:02:59.434697Z"
    },
    "papermill": {
     "duration": 0.048273,
     "end_time": "2022-08-03T19:02:59.438078",
     "exception": false,
     "start_time": "2022-08-03T19:02:59.389805",
     "status": "completed"
    },
    "tags": []
   },
   "outputs": [],
   "source": [
    "df.loc[(df['Age'] >= 18) & (df['Age'] < 30) , 'AGE_CAT'] =\"young_women_\"\n",
    "df.loc[(df['Age'] >= 30) & (df['Age'] < 45) , 'AGE_CAT'] =\"mature_women\"\n",
    "df.loc[(df['Age'] >= 45) & (df['Age'] < 65) , 'AGE_CAT'] =\"middle_age\"\n",
    "df.loc[(df['Age'] >= 65) & (df['Age'] < 75) , 'AGE_CAT'] =\"old_age\"\n",
    "df.loc[(df['Age'] >= 75) , 'AGE_CAT'] =\"elder_age\""
   ]
  },
  {
   "cell_type": "code",
   "execution_count": 35,
   "id": "482711e7",
   "metadata": {
    "execution": {
     "iopub.execute_input": "2022-08-03T19:02:59.500007Z",
     "iopub.status.busy": "2022-08-03T19:02:59.499273Z",
     "iopub.status.idle": "2022-08-03T19:02:59.514100Z",
     "shell.execute_reply": "2022-08-03T19:02:59.512916Z"
    },
    "papermill": {
     "duration": 0.048844,
     "end_time": "2022-08-03T19:02:59.516878",
     "exception": false,
     "start_time": "2022-08-03T19:02:59.468034",
     "status": "completed"
    },
    "tags": []
   },
   "outputs": [
    {
     "data": {
      "text/html": [
       "<div>\n",
       "<style scoped>\n",
       "    .dataframe tbody tr th:only-of-type {\n",
       "        vertical-align: middle;\n",
       "    }\n",
       "\n",
       "    .dataframe tbody tr th {\n",
       "        vertical-align: top;\n",
       "    }\n",
       "\n",
       "    .dataframe thead tr th {\n",
       "        text-align: left;\n",
       "    }\n",
       "\n",
       "    .dataframe thead tr:last-of-type th {\n",
       "        text-align: right;\n",
       "    }\n",
       "</style>\n",
       "<table border=\"1\" class=\"dataframe\">\n",
       "  <thead>\n",
       "    <tr>\n",
       "      <th></th>\n",
       "      <th colspan=\"2\" halign=\"left\">Outcome</th>\n",
       "    </tr>\n",
       "    <tr>\n",
       "      <th></th>\n",
       "      <th>mean</th>\n",
       "      <th>count</th>\n",
       "    </tr>\n",
       "    <tr>\n",
       "      <th>AGE_CAT</th>\n",
       "      <th></th>\n",
       "      <th></th>\n",
       "    </tr>\n",
       "  </thead>\n",
       "  <tbody>\n",
       "    <tr>\n",
       "      <th>mature_women</th>\n",
       "      <td>0.493724</td>\n",
       "      <td>239</td>\n",
       "    </tr>\n",
       "    <tr>\n",
       "      <th>middle_age</th>\n",
       "      <td>0.529915</td>\n",
       "      <td>117</td>\n",
       "    </tr>\n",
       "    <tr>\n",
       "      <th>old_age</th>\n",
       "      <td>0.250000</td>\n",
       "      <td>16</td>\n",
       "    </tr>\n",
       "    <tr>\n",
       "      <th>young_women_</th>\n",
       "      <td>0.212121</td>\n",
       "      <td>396</td>\n",
       "    </tr>\n",
       "  </tbody>\n",
       "</table>\n",
       "</div>"
      ],
      "text/plain": [
       "               Outcome      \n",
       "                  mean count\n",
       "AGE_CAT                     \n",
       "mature_women  0.493724   239\n",
       "middle_age    0.529915   117\n",
       "old_age       0.250000    16\n",
       "young_women_  0.212121   396"
      ]
     },
     "execution_count": 35,
     "metadata": {},
     "output_type": "execute_result"
    }
   ],
   "source": [
    "df.groupby(\"AGE_CAT\").agg({\"Outcome\": [\"mean\",\"count\"]})"
   ]
  },
  {
   "cell_type": "markdown",
   "id": "2dfc594a",
   "metadata": {
    "papermill": {
     "duration": 0.02951,
     "end_time": "2022-08-03T19:02:59.577080",
     "exception": false,
     "start_time": "2022-08-03T19:02:59.547570",
     "status": "completed"
    },
    "tags": []
   },
   "source": [
    "> Middle-age women will have a higher incidence of diabetes on average the \"Outcome\"."
   ]
  },
  {
   "cell_type": "markdown",
   "id": "146b90c7",
   "metadata": {
    "papermill": {
     "duration": 0.030027,
     "end_time": "2022-08-03T19:02:59.637008",
     "exception": false,
     "start_time": "2022-08-03T19:02:59.606981",
     "status": "completed"
    },
    "tags": []
   },
   "source": [
    "**Create the BMI Categorical variable**"
   ]
  },
  {
   "cell_type": "code",
   "execution_count": 36,
   "id": "22b6a94e",
   "metadata": {
    "execution": {
     "iopub.execute_input": "2022-08-03T19:02:59.698708Z",
     "iopub.status.busy": "2022-08-03T19:02:59.697866Z",
     "iopub.status.idle": "2022-08-03T19:02:59.713250Z",
     "shell.execute_reply": "2022-08-03T19:02:59.712357Z"
    },
    "papermill": {
     "duration": 0.049233,
     "end_time": "2022-08-03T19:02:59.715897",
     "exception": false,
     "start_time": "2022-08-03T19:02:59.666664",
     "status": "completed"
    },
    "tags": []
   },
   "outputs": [],
   "source": [
    "df.loc[(df['BMI'] < 16), 'BMI_CAT'] =\"overweak\"\n",
    "df.loc[(df['BMI'] >= 16) & (df['BMI'] < 18.5) , 'BMI_CAT'] =\"weak\"\n",
    "df.loc[(df['BMI'] >= 18.5) & (df['BMI'] < 25) , 'BMI_CAT'] =\"normal\"\n",
    "df.loc[(df['BMI'] >= 25) & (df['BMI'] < 30) , 'BMI_CAT'] =\"overweight\"\n",
    "df.loc[(df['BMI'] >= 30) & (df['BMI'] < 35) , 'BMI_CAT'] =\"1st_Obese\"\n",
    "df.loc[(df['BMI'] >= 35) & (df['BMI'] < 45) , 'BMI_CAT'] =\"2nd_Obese\"\n",
    "df.loc[(df['BMI'] >= 45), 'BMI_CAT'] =\"3rd_Obese\""
   ]
  },
  {
   "cell_type": "code",
   "execution_count": 37,
   "id": "c665e2cd",
   "metadata": {
    "execution": {
     "iopub.execute_input": "2022-08-03T19:02:59.778100Z",
     "iopub.status.busy": "2022-08-03T19:02:59.777657Z",
     "iopub.status.idle": "2022-08-03T19:02:59.793229Z",
     "shell.execute_reply": "2022-08-03T19:02:59.792028Z"
    },
    "papermill": {
     "duration": 0.049225,
     "end_time": "2022-08-03T19:02:59.795660",
     "exception": false,
     "start_time": "2022-08-03T19:02:59.746435",
     "status": "completed"
    },
    "tags": []
   },
   "outputs": [
    {
     "data": {
      "text/html": [
       "<div>\n",
       "<style scoped>\n",
       "    .dataframe tbody tr th:only-of-type {\n",
       "        vertical-align: middle;\n",
       "    }\n",
       "\n",
       "    .dataframe tbody tr th {\n",
       "        vertical-align: top;\n",
       "    }\n",
       "\n",
       "    .dataframe thead tr th {\n",
       "        text-align: left;\n",
       "    }\n",
       "\n",
       "    .dataframe thead tr:last-of-type th {\n",
       "        text-align: right;\n",
       "    }\n",
       "</style>\n",
       "<table border=\"1\" class=\"dataframe\">\n",
       "  <thead>\n",
       "    <tr>\n",
       "      <th></th>\n",
       "      <th colspan=\"2\" halign=\"left\">Outcome</th>\n",
       "    </tr>\n",
       "    <tr>\n",
       "      <th></th>\n",
       "      <th>mean</th>\n",
       "      <th>count</th>\n",
       "    </tr>\n",
       "    <tr>\n",
       "      <th>BMI_CAT</th>\n",
       "      <th></th>\n",
       "      <th></th>\n",
       "    </tr>\n",
       "  </thead>\n",
       "  <tbody>\n",
       "    <tr>\n",
       "      <th>1st_Obese</th>\n",
       "      <td>0.438298</td>\n",
       "      <td>235</td>\n",
       "    </tr>\n",
       "    <tr>\n",
       "      <th>2nd_Obese</th>\n",
       "      <td>0.452830</td>\n",
       "      <td>212</td>\n",
       "    </tr>\n",
       "    <tr>\n",
       "      <th>3rd_Obese</th>\n",
       "      <td>0.611111</td>\n",
       "      <td>36</td>\n",
       "    </tr>\n",
       "    <tr>\n",
       "      <th>normal</th>\n",
       "      <td>0.068627</td>\n",
       "      <td>102</td>\n",
       "    </tr>\n",
       "    <tr>\n",
       "      <th>overweight</th>\n",
       "      <td>0.223464</td>\n",
       "      <td>179</td>\n",
       "    </tr>\n",
       "    <tr>\n",
       "      <th>weak</th>\n",
       "      <td>0.000000</td>\n",
       "      <td>4</td>\n",
       "    </tr>\n",
       "  </tbody>\n",
       "</table>\n",
       "</div>"
      ],
      "text/plain": [
       "             Outcome      \n",
       "                mean count\n",
       "BMI_CAT                   \n",
       "1st_Obese   0.438298   235\n",
       "2nd_Obese   0.452830   212\n",
       "3rd_Obese   0.611111    36\n",
       "normal      0.068627   102\n",
       "overweight  0.223464   179\n",
       "weak        0.000000     4"
      ]
     },
     "execution_count": 37,
     "metadata": {},
     "output_type": "execute_result"
    }
   ],
   "source": [
    "df.groupby(\"BMI_CAT\").agg({\"Outcome\": [\"mean\",\"count\"]})"
   ]
  },
  {
   "cell_type": "markdown",
   "id": "1a44fc95",
   "metadata": {
    "papermill": {
     "duration": 0.029867,
     "end_time": "2022-08-03T19:02:59.856232",
     "exception": false,
     "start_time": "2022-08-03T19:02:59.826365",
     "status": "completed"
    },
    "tags": []
   },
   "source": [
    "> Morbidly obese women will have a higher incidence of diabetes on average the \"Outcome\"."
   ]
  },
  {
   "cell_type": "markdown",
   "id": "414a6065",
   "metadata": {
    "papermill": {
     "duration": 0.031311,
     "end_time": "2022-08-03T19:02:59.917945",
     "exception": false,
     "start_time": "2022-08-03T19:02:59.886634",
     "status": "completed"
    },
    "tags": []
   },
   "source": [
    "**Create a Diastolic Blood Pressure Categorical variable**\n"
   ]
  },
  {
   "cell_type": "code",
   "execution_count": 38,
   "id": "7b900c18",
   "metadata": {
    "execution": {
     "iopub.execute_input": "2022-08-03T19:02:59.981345Z",
     "iopub.status.busy": "2022-08-03T19:02:59.980546Z",
     "iopub.status.idle": "2022-08-03T19:02:59.990545Z",
     "shell.execute_reply": "2022-08-03T19:02:59.989629Z"
    },
    "papermill": {
     "duration": 0.044441,
     "end_time": "2022-08-03T19:02:59.993134",
     "exception": false,
     "start_time": "2022-08-03T19:02:59.948693",
     "status": "completed"
    },
    "tags": []
   },
   "outputs": [],
   "source": [
    "df.loc[(df['BloodPressure'] < 70)  , 'DIASTOLIC_CAT'] =\"low\"\n",
    "df.loc[(df['BloodPressure'] >= 70) & (df['BMI'] < 90) , 'DIASTOLIC_CAT'] =\"normal\"\n",
    "df.loc[(df['BloodPressure'] >= 90 ) , 'DIASTOLIC_CAT'] =\"high\""
   ]
  },
  {
   "cell_type": "code",
   "execution_count": 39,
   "id": "0396c892",
   "metadata": {
    "execution": {
     "iopub.execute_input": "2022-08-03T19:03:00.056924Z",
     "iopub.status.busy": "2022-08-03T19:03:00.056179Z",
     "iopub.status.idle": "2022-08-03T19:03:00.071290Z",
     "shell.execute_reply": "2022-08-03T19:03:00.070023Z"
    },
    "papermill": {
     "duration": 0.050511,
     "end_time": "2022-08-03T19:03:00.073693",
     "exception": false,
     "start_time": "2022-08-03T19:03:00.023182",
     "status": "completed"
    },
    "tags": []
   },
   "outputs": [
    {
     "data": {
      "text/html": [
       "<div>\n",
       "<style scoped>\n",
       "    .dataframe tbody tr th:only-of-type {\n",
       "        vertical-align: middle;\n",
       "    }\n",
       "\n",
       "    .dataframe tbody tr th {\n",
       "        vertical-align: top;\n",
       "    }\n",
       "\n",
       "    .dataframe thead tr th {\n",
       "        text-align: left;\n",
       "    }\n",
       "\n",
       "    .dataframe thead tr:last-of-type th {\n",
       "        text-align: right;\n",
       "    }\n",
       "</style>\n",
       "<table border=\"1\" class=\"dataframe\">\n",
       "  <thead>\n",
       "    <tr>\n",
       "      <th></th>\n",
       "      <th colspan=\"2\" halign=\"left\">Outcome</th>\n",
       "    </tr>\n",
       "    <tr>\n",
       "      <th></th>\n",
       "      <th>mean</th>\n",
       "      <th>count</th>\n",
       "    </tr>\n",
       "    <tr>\n",
       "      <th>DIASTOLIC_CAT</th>\n",
       "      <th></th>\n",
       "      <th></th>\n",
       "    </tr>\n",
       "  </thead>\n",
       "  <tbody>\n",
       "    <tr>\n",
       "      <th>high</th>\n",
       "      <td>0.483333</td>\n",
       "      <td>60</td>\n",
       "    </tr>\n",
       "    <tr>\n",
       "      <th>low</th>\n",
       "      <td>0.247350</td>\n",
       "      <td>283</td>\n",
       "    </tr>\n",
       "    <tr>\n",
       "      <th>normal</th>\n",
       "      <td>0.397647</td>\n",
       "      <td>425</td>\n",
       "    </tr>\n",
       "  </tbody>\n",
       "</table>\n",
       "</div>"
      ],
      "text/plain": [
       "                Outcome      \n",
       "                   mean count\n",
       "DIASTOLIC_CAT                \n",
       "high           0.483333    60\n",
       "low            0.247350   283\n",
       "normal         0.397647   425"
      ]
     },
     "execution_count": 39,
     "metadata": {},
     "output_type": "execute_result"
    }
   ],
   "source": [
    "df.groupby(\"DIASTOLIC_CAT\").agg({\"Outcome\": [\"mean\",\"count\"]})"
   ]
  },
  {
   "cell_type": "markdown",
   "id": "67186a00",
   "metadata": {
    "papermill": {
     "duration": 0.031117,
     "end_time": "2022-08-03T19:03:00.134783",
     "exception": false,
     "start_time": "2022-08-03T19:03:00.103666",
     "status": "completed"
    },
    "tags": []
   },
   "source": [
    "> Women with high blood pressure will have a higher incidence of diabetes on average the \"Outcome\"."
   ]
  },
  {
   "cell_type": "markdown",
   "id": "d44fb431",
   "metadata": {
    "papermill": {
     "duration": 0.029819,
     "end_time": "2022-08-03T19:03:00.194610",
     "exception": false,
     "start_time": "2022-08-03T19:03:00.164791",
     "status": "completed"
    },
    "tags": []
   },
   "source": [
    "**Create a Insulin Categorical variable**"
   ]
  },
  {
   "cell_type": "code",
   "execution_count": 40,
   "id": "fe75fd13",
   "metadata": {
    "execution": {
     "iopub.execute_input": "2022-08-03T19:03:00.257405Z",
     "iopub.status.busy": "2022-08-03T19:03:00.256637Z",
     "iopub.status.idle": "2022-08-03T19:03:00.265077Z",
     "shell.execute_reply": "2022-08-03T19:03:00.264226Z"
    },
    "papermill": {
     "duration": 0.042692,
     "end_time": "2022-08-03T19:03:00.267626",
     "exception": false,
     "start_time": "2022-08-03T19:03:00.224934",
     "status": "completed"
    },
    "tags": []
   },
   "outputs": [],
   "source": [
    "df.loc[(df['Insulin'] < 120)  , 'INSULIN_CAT'] =\"normal\"\n",
    "df.loc[(df['Insulin'] >= 120) , 'INSULIN_CAT'] =\"abnormal\""
   ]
  },
  {
   "cell_type": "code",
   "execution_count": 41,
   "id": "b931003d",
   "metadata": {
    "execution": {
     "iopub.execute_input": "2022-08-03T19:03:00.343846Z",
     "iopub.status.busy": "2022-08-03T19:03:00.342980Z",
     "iopub.status.idle": "2022-08-03T19:03:00.365534Z",
     "shell.execute_reply": "2022-08-03T19:03:00.363569Z"
    },
    "papermill": {
     "duration": 0.069392,
     "end_time": "2022-08-03T19:03:00.368745",
     "exception": false,
     "start_time": "2022-08-03T19:03:00.299353",
     "status": "completed"
    },
    "tags": []
   },
   "outputs": [
    {
     "data": {
      "text/html": [
       "<div>\n",
       "<style scoped>\n",
       "    .dataframe tbody tr th:only-of-type {\n",
       "        vertical-align: middle;\n",
       "    }\n",
       "\n",
       "    .dataframe tbody tr th {\n",
       "        vertical-align: top;\n",
       "    }\n",
       "\n",
       "    .dataframe thead tr th {\n",
       "        text-align: left;\n",
       "    }\n",
       "\n",
       "    .dataframe thead tr:last-of-type th {\n",
       "        text-align: right;\n",
       "    }\n",
       "</style>\n",
       "<table border=\"1\" class=\"dataframe\">\n",
       "  <thead>\n",
       "    <tr>\n",
       "      <th></th>\n",
       "      <th colspan=\"2\" halign=\"left\">Outcome</th>\n",
       "    </tr>\n",
       "    <tr>\n",
       "      <th></th>\n",
       "      <th>mean</th>\n",
       "      <th>count</th>\n",
       "    </tr>\n",
       "    <tr>\n",
       "      <th>INSULIN_CAT</th>\n",
       "      <th></th>\n",
       "      <th></th>\n",
       "    </tr>\n",
       "  </thead>\n",
       "  <tbody>\n",
       "    <tr>\n",
       "      <th>abnormal</th>\n",
       "      <td>0.429112</td>\n",
       "      <td>529</td>\n",
       "    </tr>\n",
       "    <tr>\n",
       "      <th>normal</th>\n",
       "      <td>0.171548</td>\n",
       "      <td>239</td>\n",
       "    </tr>\n",
       "  </tbody>\n",
       "</table>\n",
       "</div>"
      ],
      "text/plain": [
       "              Outcome      \n",
       "                 mean count\n",
       "INSULIN_CAT                \n",
       "abnormal     0.429112   529\n",
       "normal       0.171548   239"
      ]
     },
     "execution_count": 41,
     "metadata": {},
     "output_type": "execute_result"
    }
   ],
   "source": [
    "df.groupby(\"INSULIN_CAT\").agg({\"Outcome\": [\"mean\",\"count\"]})"
   ]
  },
  {
   "cell_type": "markdown",
   "id": "2dabe8f5",
   "metadata": {
    "papermill": {
     "duration": 0.03727,
     "end_time": "2022-08-03T19:03:00.441754",
     "exception": false,
     "start_time": "2022-08-03T19:03:00.404484",
     "status": "completed"
    },
    "tags": []
   },
   "source": [
    "> Women with abnormal insulin will have a higher incidence of diabetes on average the \"Outcome.\""
   ]
  },
  {
   "cell_type": "markdown",
   "id": "f73e8382",
   "metadata": {
    "papermill": {
     "duration": 0.029876,
     "end_time": "2022-08-03T19:03:00.502105",
     "exception": false,
     "start_time": "2022-08-03T19:03:00.472229",
     "status": "completed"
    },
    "tags": []
   },
   "source": [
    "**Create a Pregnancies Categorical variable**"
   ]
  },
  {
   "cell_type": "code",
   "execution_count": 42,
   "id": "75c3a3fc",
   "metadata": {
    "execution": {
     "iopub.execute_input": "2022-08-03T19:03:00.565569Z",
     "iopub.status.busy": "2022-08-03T19:03:00.565180Z",
     "iopub.status.idle": "2022-08-03T19:03:00.576796Z",
     "shell.execute_reply": "2022-08-03T19:03:00.575964Z"
    },
    "papermill": {
     "duration": 0.046357,
     "end_time": "2022-08-03T19:03:00.579296",
     "exception": false,
     "start_time": "2022-08-03T19:03:00.532939",
     "status": "completed"
    },
    "tags": []
   },
   "outputs": [],
   "source": [
    "df.loc[(df['Pregnancies'] == 0)  , 'PREG_CAT'] =\"unpregnant\"\n",
    "df.loc[(df['Pregnancies'] > 0 ) & (df['Pregnancies'] <= 5)  , 'PREG_CAT'] =\"normal\"\n",
    "df.loc[(df['Pregnancies'] > 5 ) & (df['Pregnancies'] <= 10 )  , 'PREG_CAT'] =\"high\"\n",
    "df.loc[(df['Pregnancies'] > 10 )  , 'PREG_CAT'] =\"very high\""
   ]
  },
  {
   "cell_type": "code",
   "execution_count": 43,
   "id": "a000ad5c",
   "metadata": {
    "execution": {
     "iopub.execute_input": "2022-08-03T19:03:00.641796Z",
     "iopub.status.busy": "2022-08-03T19:03:00.641409Z",
     "iopub.status.idle": "2022-08-03T19:03:00.656875Z",
     "shell.execute_reply": "2022-08-03T19:03:00.655742Z"
    },
    "papermill": {
     "duration": 0.049942,
     "end_time": "2022-08-03T19:03:00.659386",
     "exception": false,
     "start_time": "2022-08-03T19:03:00.609444",
     "status": "completed"
    },
    "tags": []
   },
   "outputs": [
    {
     "data": {
      "text/html": [
       "<div>\n",
       "<style scoped>\n",
       "    .dataframe tbody tr th:only-of-type {\n",
       "        vertical-align: middle;\n",
       "    }\n",
       "\n",
       "    .dataframe tbody tr th {\n",
       "        vertical-align: top;\n",
       "    }\n",
       "\n",
       "    .dataframe thead tr th {\n",
       "        text-align: left;\n",
       "    }\n",
       "\n",
       "    .dataframe thead tr:last-of-type th {\n",
       "        text-align: right;\n",
       "    }\n",
       "</style>\n",
       "<table border=\"1\" class=\"dataframe\">\n",
       "  <thead>\n",
       "    <tr>\n",
       "      <th></th>\n",
       "      <th colspan=\"2\" halign=\"left\">Outcome</th>\n",
       "    </tr>\n",
       "    <tr>\n",
       "      <th></th>\n",
       "      <th>mean</th>\n",
       "      <th>count</th>\n",
       "    </tr>\n",
       "    <tr>\n",
       "      <th>PREG_CAT</th>\n",
       "      <th></th>\n",
       "      <th></th>\n",
       "    </tr>\n",
       "  </thead>\n",
       "  <tbody>\n",
       "    <tr>\n",
       "      <th>high</th>\n",
       "      <td>0.491892</td>\n",
       "      <td>185</td>\n",
       "    </tr>\n",
       "    <tr>\n",
       "      <th>normal</th>\n",
       "      <td>0.271689</td>\n",
       "      <td>438</td>\n",
       "    </tr>\n",
       "    <tr>\n",
       "      <th>unpregnant</th>\n",
       "      <td>0.342342</td>\n",
       "      <td>111</td>\n",
       "    </tr>\n",
       "    <tr>\n",
       "      <th>very high</th>\n",
       "      <td>0.588235</td>\n",
       "      <td>34</td>\n",
       "    </tr>\n",
       "  </tbody>\n",
       "</table>\n",
       "</div>"
      ],
      "text/plain": [
       "             Outcome      \n",
       "                mean count\n",
       "PREG_CAT                  \n",
       "high        0.491892   185\n",
       "normal      0.271689   438\n",
       "unpregnant  0.342342   111\n",
       "very high   0.588235    34"
      ]
     },
     "execution_count": 43,
     "metadata": {},
     "output_type": "execute_result"
    }
   ],
   "source": [
    "df.groupby(\"PREG_CAT\").agg({\"Outcome\": [\"mean\",\"count\"]})"
   ]
  },
  {
   "cell_type": "code",
   "execution_count": 44,
   "id": "39a8c92c",
   "metadata": {
    "execution": {
     "iopub.execute_input": "2022-08-03T19:03:00.724265Z",
     "iopub.status.busy": "2022-08-03T19:03:00.723470Z",
     "iopub.status.idle": "2022-08-03T19:03:00.745888Z",
     "shell.execute_reply": "2022-08-03T19:03:00.744656Z"
    },
    "papermill": {
     "duration": 0.058,
     "end_time": "2022-08-03T19:03:00.748384",
     "exception": false,
     "start_time": "2022-08-03T19:03:00.690384",
     "status": "completed"
    },
    "tags": []
   },
   "outputs": [
    {
     "data": {
      "text/html": [
       "<div>\n",
       "<style scoped>\n",
       "    .dataframe tbody tr th:only-of-type {\n",
       "        vertical-align: middle;\n",
       "    }\n",
       "\n",
       "    .dataframe tbody tr th {\n",
       "        vertical-align: top;\n",
       "    }\n",
       "\n",
       "    .dataframe thead th {\n",
       "        text-align: right;\n",
       "    }\n",
       "</style>\n",
       "<table border=\"1\" class=\"dataframe\">\n",
       "  <thead>\n",
       "    <tr style=\"text-align: right;\">\n",
       "      <th></th>\n",
       "      <th>Pregnancies</th>\n",
       "      <th>Glucose</th>\n",
       "      <th>BloodPressure</th>\n",
       "      <th>SkinThickness</th>\n",
       "      <th>Insulin</th>\n",
       "      <th>BMI</th>\n",
       "      <th>DiabetesPedigreeFunction</th>\n",
       "      <th>Age</th>\n",
       "      <th>Outcome</th>\n",
       "      <th>GLUCOSE_CAT</th>\n",
       "      <th>AGE_CAT</th>\n",
       "      <th>BMI_CAT</th>\n",
       "      <th>DIASTOLIC_CAT</th>\n",
       "      <th>INSULIN_CAT</th>\n",
       "      <th>PREG_CAT</th>\n",
       "    </tr>\n",
       "  </thead>\n",
       "  <tbody>\n",
       "    <tr>\n",
       "      <th>0</th>\n",
       "      <td>6.0</td>\n",
       "      <td>148.0</td>\n",
       "      <td>72.0</td>\n",
       "      <td>35.00000</td>\n",
       "      <td>218.925</td>\n",
       "      <td>33.6</td>\n",
       "      <td>0.627</td>\n",
       "      <td>50.0</td>\n",
       "      <td>1</td>\n",
       "      <td>hiperglisemi</td>\n",
       "      <td>middle_age</td>\n",
       "      <td>1st_Obese</td>\n",
       "      <td>normal</td>\n",
       "      <td>abnormal</td>\n",
       "      <td>high</td>\n",
       "    </tr>\n",
       "    <tr>\n",
       "      <th>1</th>\n",
       "      <td>1.0</td>\n",
       "      <td>85.0</td>\n",
       "      <td>66.0</td>\n",
       "      <td>29.00000</td>\n",
       "      <td>179.400</td>\n",
       "      <td>26.6</td>\n",
       "      <td>0.351</td>\n",
       "      <td>31.0</td>\n",
       "      <td>0</td>\n",
       "      <td>normal</td>\n",
       "      <td>mature_women</td>\n",
       "      <td>overweight</td>\n",
       "      <td>low</td>\n",
       "      <td>abnormal</td>\n",
       "      <td>normal</td>\n",
       "    </tr>\n",
       "    <tr>\n",
       "      <th>2</th>\n",
       "      <td>8.0</td>\n",
       "      <td>183.0</td>\n",
       "      <td>64.0</td>\n",
       "      <td>29.05915</td>\n",
       "      <td>146.500</td>\n",
       "      <td>23.3</td>\n",
       "      <td>0.672</td>\n",
       "      <td>32.0</td>\n",
       "      <td>1</td>\n",
       "      <td>hiperglisemi</td>\n",
       "      <td>mature_women</td>\n",
       "      <td>normal</td>\n",
       "      <td>low</td>\n",
       "      <td>abnormal</td>\n",
       "      <td>high</td>\n",
       "    </tr>\n",
       "    <tr>\n",
       "      <th>3</th>\n",
       "      <td>1.0</td>\n",
       "      <td>89.0</td>\n",
       "      <td>66.0</td>\n",
       "      <td>23.00000</td>\n",
       "      <td>94.000</td>\n",
       "      <td>28.1</td>\n",
       "      <td>0.167</td>\n",
       "      <td>21.0</td>\n",
       "      <td>0</td>\n",
       "      <td>normal</td>\n",
       "      <td>young_women_</td>\n",
       "      <td>overweight</td>\n",
       "      <td>low</td>\n",
       "      <td>normal</td>\n",
       "      <td>normal</td>\n",
       "    </tr>\n",
       "    <tr>\n",
       "      <th>4</th>\n",
       "      <td>0.0</td>\n",
       "      <td>137.0</td>\n",
       "      <td>40.0</td>\n",
       "      <td>35.00000</td>\n",
       "      <td>168.000</td>\n",
       "      <td>43.1</td>\n",
       "      <td>1.200</td>\n",
       "      <td>33.0</td>\n",
       "      <td>1</td>\n",
       "      <td>hiperglisemi</td>\n",
       "      <td>mature_women</td>\n",
       "      <td>2nd_Obese</td>\n",
       "      <td>low</td>\n",
       "      <td>abnormal</td>\n",
       "      <td>unpregnant</td>\n",
       "    </tr>\n",
       "  </tbody>\n",
       "</table>\n",
       "</div>"
      ],
      "text/plain": [
       "   Pregnancies  Glucose  BloodPressure  SkinThickness  Insulin   BMI  \\\n",
       "0          6.0    148.0           72.0       35.00000  218.925  33.6   \n",
       "1          1.0     85.0           66.0       29.00000  179.400  26.6   \n",
       "2          8.0    183.0           64.0       29.05915  146.500  23.3   \n",
       "3          1.0     89.0           66.0       23.00000   94.000  28.1   \n",
       "4          0.0    137.0           40.0       35.00000  168.000  43.1   \n",
       "\n",
       "   DiabetesPedigreeFunction   Age  Outcome   GLUCOSE_CAT       AGE_CAT  \\\n",
       "0                     0.627  50.0        1  hiperglisemi    middle_age   \n",
       "1                     0.351  31.0        0        normal  mature_women   \n",
       "2                     0.672  32.0        1  hiperglisemi  mature_women   \n",
       "3                     0.167  21.0        0        normal  young_women_   \n",
       "4                     1.200  33.0        1  hiperglisemi  mature_women   \n",
       "\n",
       "      BMI_CAT DIASTOLIC_CAT INSULIN_CAT    PREG_CAT  \n",
       "0   1st_Obese        normal    abnormal        high  \n",
       "1  overweight           low    abnormal      normal  \n",
       "2      normal           low    abnormal        high  \n",
       "3  overweight           low      normal      normal  \n",
       "4   2nd_Obese           low    abnormal  unpregnant  "
      ]
     },
     "execution_count": 44,
     "metadata": {},
     "output_type": "execute_result"
    }
   ],
   "source": [
    "df.head()"
   ]
  },
  {
   "cell_type": "markdown",
   "id": "2ed934d0",
   "metadata": {
    "papermill": {
     "duration": 0.030301,
     "end_time": "2022-08-03T19:03:00.809502",
     "exception": false,
     "start_time": "2022-08-03T19:03:00.779201",
     "status": "completed"
    },
    "tags": []
   },
   "source": [
    "##                           3.MODELING                                     #\n"
   ]
  },
  {
   "cell_type": "markdown",
   "id": "9fc8004b",
   "metadata": {
    "papermill": {
     "duration": 0.030701,
     "end_time": "2022-08-03T19:03:00.870667",
     "exception": false,
     "start_time": "2022-08-03T19:03:00.839966",
     "status": "completed"
    },
    "tags": []
   },
   "source": [
    "#### **3.1.Processing Encoding and One-Hot Encoding**\n",
    "<a id=\"processing_encoding_and_one_hot-encoding\"></a>"
   ]
  },
  {
   "cell_type": "markdown",
   "id": "87920c22",
   "metadata": {
    "papermill": {
     "duration": 0.030511,
     "end_time": "2022-08-03T19:03:00.931713",
     "exception": false,
     "start_time": "2022-08-03T19:03:00.901202",
     "status": "completed"
    },
    "tags": []
   },
   "source": [
    "**Label Encoder**"
   ]
  },
  {
   "cell_type": "code",
   "execution_count": 45,
   "id": "faeb2153",
   "metadata": {
    "execution": {
     "iopub.execute_input": "2022-08-03T19:03:00.995808Z",
     "iopub.status.busy": "2022-08-03T19:03:00.994991Z",
     "iopub.status.idle": "2022-08-03T19:03:01.002949Z",
     "shell.execute_reply": "2022-08-03T19:03:01.001993Z"
    },
    "papermill": {
     "duration": 0.042991,
     "end_time": "2022-08-03T19:03:01.005473",
     "exception": false,
     "start_time": "2022-08-03T19:03:00.962482",
     "status": "completed"
    },
    "tags": []
   },
   "outputs": [],
   "source": [
    "le = LabelEncoder()\n",
    "\n",
    "binary_cols = [col for col in df.columns if df[col].dtype not in [int, float]\n",
    "               and df[col].nunique() == 2]"
   ]
  },
  {
   "cell_type": "markdown",
   "id": "853b5464",
   "metadata": {
    "papermill": {
     "duration": 0.031123,
     "end_time": "2022-08-03T19:03:01.067861",
     "exception": false,
     "start_time": "2022-08-03T19:03:01.036738",
     "status": "completed"
    },
    "tags": []
   },
   "source": [
    "**Define a Function about Label encoder**"
   ]
  },
  {
   "cell_type": "code",
   "execution_count": 46,
   "id": "a123acce",
   "metadata": {
    "execution": {
     "iopub.execute_input": "2022-08-03T19:03:01.130504Z",
     "iopub.status.busy": "2022-08-03T19:03:01.130114Z",
     "iopub.status.idle": "2022-08-03T19:03:01.137308Z",
     "shell.execute_reply": "2022-08-03T19:03:01.136108Z"
    },
    "papermill": {
     "duration": 0.041299,
     "end_time": "2022-08-03T19:03:01.139730",
     "exception": false,
     "start_time": "2022-08-03T19:03:01.098431",
     "status": "completed"
    },
    "tags": []
   },
   "outputs": [],
   "source": [
    "def label_encoder(dataframe, binary_col):\n",
    "    labelencoder = LabelEncoder()\n",
    "    dataframe[binary_col] = labelencoder.fit_transform(dataframe[binary_col])\n",
    "    return dataframe\n",
    "\n",
    "\n",
    "for col in binary_cols:\n",
    "    df = label_encoder(df, col)"
   ]
  },
  {
   "cell_type": "markdown",
   "id": "9d717f26",
   "metadata": {
    "papermill": {
     "duration": 0.032132,
     "end_time": "2022-08-03T19:03:01.203012",
     "exception": false,
     "start_time": "2022-08-03T19:03:01.170880",
     "status": "completed"
    },
    "tags": []
   },
   "source": [
    "**Define a Function about one-hot encoder**\n"
   ]
  },
  {
   "cell_type": "code",
   "execution_count": 47,
   "id": "a24e6daf",
   "metadata": {
    "execution": {
     "iopub.execute_input": "2022-08-03T19:03:01.270926Z",
     "iopub.status.busy": "2022-08-03T19:03:01.270131Z",
     "iopub.status.idle": "2022-08-03T19:03:01.280179Z",
     "shell.execute_reply": "2022-08-03T19:03:01.279195Z"
    },
    "papermill": {
     "duration": 0.04752,
     "end_time": "2022-08-03T19:03:01.283371",
     "exception": false,
     "start_time": "2022-08-03T19:03:01.235851",
     "status": "completed"
    },
    "tags": []
   },
   "outputs": [],
   "source": [
    "def one_hot_encoder(dataframe, categorical_cols, drop_first=True):\n",
    "    dataframe = pd.get_dummies(dataframe, columns=categorical_cols, drop_first=drop_first)\n",
    "    return dataframe\n",
    "\n",
    "ohe_cols = [col for col in df.columns if 10 >= df[col].nunique() > 2]"
   ]
  },
  {
   "cell_type": "code",
   "execution_count": 48,
   "id": "d83a006f",
   "metadata": {
    "execution": {
     "iopub.execute_input": "2022-08-03T19:03:01.458645Z",
     "iopub.status.busy": "2022-08-03T19:03:01.458183Z",
     "iopub.status.idle": "2022-08-03T19:03:01.490873Z",
     "shell.execute_reply": "2022-08-03T19:03:01.489859Z"
    },
    "papermill": {
     "duration": 0.067463,
     "end_time": "2022-08-03T19:03:01.493610",
     "exception": false,
     "start_time": "2022-08-03T19:03:01.426147",
     "status": "completed"
    },
    "tags": []
   },
   "outputs": [
    {
     "data": {
      "text/html": [
       "<div>\n",
       "<style scoped>\n",
       "    .dataframe tbody tr th:only-of-type {\n",
       "        vertical-align: middle;\n",
       "    }\n",
       "\n",
       "    .dataframe tbody tr th {\n",
       "        vertical-align: top;\n",
       "    }\n",
       "\n",
       "    .dataframe thead th {\n",
       "        text-align: right;\n",
       "    }\n",
       "</style>\n",
       "<table border=\"1\" class=\"dataframe\">\n",
       "  <thead>\n",
       "    <tr style=\"text-align: right;\">\n",
       "      <th></th>\n",
       "      <th>Pregnancies</th>\n",
       "      <th>Glucose</th>\n",
       "      <th>BloodPressure</th>\n",
       "      <th>SkinThickness</th>\n",
       "      <th>Insulin</th>\n",
       "      <th>BMI</th>\n",
       "      <th>DiabetesPedigreeFunction</th>\n",
       "      <th>Age</th>\n",
       "      <th>Outcome</th>\n",
       "      <th>INSULIN_CAT</th>\n",
       "      <th>...</th>\n",
       "      <th>BMI_CAT_2nd_Obese</th>\n",
       "      <th>BMI_CAT_3rd_Obese</th>\n",
       "      <th>BMI_CAT_normal</th>\n",
       "      <th>BMI_CAT_overweight</th>\n",
       "      <th>BMI_CAT_weak</th>\n",
       "      <th>DIASTOLIC_CAT_low</th>\n",
       "      <th>DIASTOLIC_CAT_normal</th>\n",
       "      <th>PREG_CAT_normal</th>\n",
       "      <th>PREG_CAT_unpregnant</th>\n",
       "      <th>PREG_CAT_very high</th>\n",
       "    </tr>\n",
       "  </thead>\n",
       "  <tbody>\n",
       "    <tr>\n",
       "      <th>0</th>\n",
       "      <td>6.0</td>\n",
       "      <td>148.0</td>\n",
       "      <td>72.0</td>\n",
       "      <td>35.00000</td>\n",
       "      <td>218.925</td>\n",
       "      <td>33.6</td>\n",
       "      <td>0.627</td>\n",
       "      <td>50.0</td>\n",
       "      <td>1</td>\n",
       "      <td>0</td>\n",
       "      <td>...</td>\n",
       "      <td>0</td>\n",
       "      <td>0</td>\n",
       "      <td>0</td>\n",
       "      <td>0</td>\n",
       "      <td>0</td>\n",
       "      <td>0</td>\n",
       "      <td>1</td>\n",
       "      <td>0</td>\n",
       "      <td>0</td>\n",
       "      <td>0</td>\n",
       "    </tr>\n",
       "    <tr>\n",
       "      <th>1</th>\n",
       "      <td>1.0</td>\n",
       "      <td>85.0</td>\n",
       "      <td>66.0</td>\n",
       "      <td>29.00000</td>\n",
       "      <td>179.400</td>\n",
       "      <td>26.6</td>\n",
       "      <td>0.351</td>\n",
       "      <td>31.0</td>\n",
       "      <td>0</td>\n",
       "      <td>0</td>\n",
       "      <td>...</td>\n",
       "      <td>0</td>\n",
       "      <td>0</td>\n",
       "      <td>0</td>\n",
       "      <td>1</td>\n",
       "      <td>0</td>\n",
       "      <td>1</td>\n",
       "      <td>0</td>\n",
       "      <td>1</td>\n",
       "      <td>0</td>\n",
       "      <td>0</td>\n",
       "    </tr>\n",
       "    <tr>\n",
       "      <th>2</th>\n",
       "      <td>8.0</td>\n",
       "      <td>183.0</td>\n",
       "      <td>64.0</td>\n",
       "      <td>29.05915</td>\n",
       "      <td>146.500</td>\n",
       "      <td>23.3</td>\n",
       "      <td>0.672</td>\n",
       "      <td>32.0</td>\n",
       "      <td>1</td>\n",
       "      <td>0</td>\n",
       "      <td>...</td>\n",
       "      <td>0</td>\n",
       "      <td>0</td>\n",
       "      <td>1</td>\n",
       "      <td>0</td>\n",
       "      <td>0</td>\n",
       "      <td>1</td>\n",
       "      <td>0</td>\n",
       "      <td>0</td>\n",
       "      <td>0</td>\n",
       "      <td>0</td>\n",
       "    </tr>\n",
       "    <tr>\n",
       "      <th>3</th>\n",
       "      <td>1.0</td>\n",
       "      <td>89.0</td>\n",
       "      <td>66.0</td>\n",
       "      <td>23.00000</td>\n",
       "      <td>94.000</td>\n",
       "      <td>28.1</td>\n",
       "      <td>0.167</td>\n",
       "      <td>21.0</td>\n",
       "      <td>0</td>\n",
       "      <td>1</td>\n",
       "      <td>...</td>\n",
       "      <td>0</td>\n",
       "      <td>0</td>\n",
       "      <td>0</td>\n",
       "      <td>1</td>\n",
       "      <td>0</td>\n",
       "      <td>1</td>\n",
       "      <td>0</td>\n",
       "      <td>1</td>\n",
       "      <td>0</td>\n",
       "      <td>0</td>\n",
       "    </tr>\n",
       "    <tr>\n",
       "      <th>4</th>\n",
       "      <td>0.0</td>\n",
       "      <td>137.0</td>\n",
       "      <td>40.0</td>\n",
       "      <td>35.00000</td>\n",
       "      <td>168.000</td>\n",
       "      <td>43.1</td>\n",
       "      <td>1.200</td>\n",
       "      <td>33.0</td>\n",
       "      <td>1</td>\n",
       "      <td>0</td>\n",
       "      <td>...</td>\n",
       "      <td>1</td>\n",
       "      <td>0</td>\n",
       "      <td>0</td>\n",
       "      <td>0</td>\n",
       "      <td>0</td>\n",
       "      <td>1</td>\n",
       "      <td>0</td>\n",
       "      <td>0</td>\n",
       "      <td>1</td>\n",
       "      <td>0</td>\n",
       "    </tr>\n",
       "  </tbody>\n",
       "</table>\n",
       "<p>5 rows × 26 columns</p>\n",
       "</div>"
      ],
      "text/plain": [
       "   Pregnancies  Glucose  BloodPressure  SkinThickness  Insulin   BMI  \\\n",
       "0          6.0    148.0           72.0       35.00000  218.925  33.6   \n",
       "1          1.0     85.0           66.0       29.00000  179.400  26.6   \n",
       "2          8.0    183.0           64.0       29.05915  146.500  23.3   \n",
       "3          1.0     89.0           66.0       23.00000   94.000  28.1   \n",
       "4          0.0    137.0           40.0       35.00000  168.000  43.1   \n",
       "\n",
       "   DiabetesPedigreeFunction   Age  Outcome  INSULIN_CAT  ...  \\\n",
       "0                     0.627  50.0        1            0  ...   \n",
       "1                     0.351  31.0        0            0  ...   \n",
       "2                     0.672  32.0        1            0  ...   \n",
       "3                     0.167  21.0        0            1  ...   \n",
       "4                     1.200  33.0        1            0  ...   \n",
       "\n",
       "   BMI_CAT_2nd_Obese  BMI_CAT_3rd_Obese  BMI_CAT_normal  BMI_CAT_overweight  \\\n",
       "0                  0                  0               0                   0   \n",
       "1                  0                  0               0                   1   \n",
       "2                  0                  0               1                   0   \n",
       "3                  0                  0               0                   1   \n",
       "4                  1                  0               0                   0   \n",
       "\n",
       "   BMI_CAT_weak  DIASTOLIC_CAT_low  DIASTOLIC_CAT_normal  PREG_CAT_normal  \\\n",
       "0             0                  0                     1                0   \n",
       "1             0                  1                     0                1   \n",
       "2             0                  1                     0                0   \n",
       "3             0                  1                     0                1   \n",
       "4             0                  1                     0                0   \n",
       "\n",
       "   PREG_CAT_unpregnant  PREG_CAT_very high  \n",
       "0                    0                   0  \n",
       "1                    0                   0  \n",
       "2                    0                   0  \n",
       "3                    0                   0  \n",
       "4                    1                   0  \n",
       "\n",
       "[5 rows x 26 columns]"
      ]
     },
     "execution_count": 48,
     "metadata": {},
     "output_type": "execute_result"
    }
   ],
   "source": [
    "df = one_hot_encoder(df, ohe_cols)\n",
    "df.head()"
   ]
  },
  {
   "cell_type": "markdown",
   "id": "d83034d4",
   "metadata": {
    "papermill": {
     "duration": 0.033848,
     "end_time": "2022-08-03T19:03:01.563479",
     "exception": false,
     "start_time": "2022-08-03T19:03:01.529631",
     "status": "completed"
    },
    "tags": []
   },
   "source": [
    "#### **3.2.Standardization for Numerical Variables**\n",
    "<a id=\"standardization_for_numerical_variables\"></a>"
   ]
  },
  {
   "cell_type": "code",
   "execution_count": 49,
   "id": "203cfaef",
   "metadata": {
    "execution": {
     "iopub.execute_input": "2022-08-03T19:03:01.632678Z",
     "iopub.status.busy": "2022-08-03T19:03:01.631570Z",
     "iopub.status.idle": "2022-08-03T19:03:01.638460Z",
     "shell.execute_reply": "2022-08-03T19:03:01.637668Z"
    },
    "papermill": {
     "duration": 0.044785,
     "end_time": "2022-08-03T19:03:01.640783",
     "exception": false,
     "start_time": "2022-08-03T19:03:01.595998",
     "status": "completed"
    },
    "tags": []
   },
   "outputs": [
    {
     "data": {
      "text/plain": [
       "['Pregnancies',\n",
       " 'Glucose',\n",
       " 'BloodPressure',\n",
       " 'SkinThickness',\n",
       " 'Insulin',\n",
       " 'BMI',\n",
       " 'DiabetesPedigreeFunction',\n",
       " 'Age']"
      ]
     },
     "execution_count": 49,
     "metadata": {},
     "output_type": "execute_result"
    }
   ],
   "source": [
    "num_cols"
   ]
  },
  {
   "cell_type": "code",
   "execution_count": 50,
   "id": "61a630d0",
   "metadata": {
    "execution": {
     "iopub.execute_input": "2022-08-03T19:03:01.709819Z",
     "iopub.status.busy": "2022-08-03T19:03:01.709413Z",
     "iopub.status.idle": "2022-08-03T19:03:01.713437Z",
     "shell.execute_reply": "2022-08-03T19:03:01.712625Z"
    },
    "papermill": {
     "duration": 0.040548,
     "end_time": "2022-08-03T19:03:01.715638",
     "exception": false,
     "start_time": "2022-08-03T19:03:01.675090",
     "status": "completed"
    },
    "tags": []
   },
   "outputs": [],
   "source": [
    "scaler = StandardScaler()"
   ]
  },
  {
   "cell_type": "code",
   "execution_count": 51,
   "id": "1c7f8a14",
   "metadata": {
    "execution": {
     "iopub.execute_input": "2022-08-03T19:03:01.783464Z",
     "iopub.status.busy": "2022-08-03T19:03:01.782500Z",
     "iopub.status.idle": "2022-08-03T19:03:01.793959Z",
     "shell.execute_reply": "2022-08-03T19:03:01.792777Z"
    },
    "papermill": {
     "duration": 0.048735,
     "end_time": "2022-08-03T19:03:01.796645",
     "exception": false,
     "start_time": "2022-08-03T19:03:01.747910",
     "status": "completed"
    },
    "tags": []
   },
   "outputs": [],
   "source": [
    "df[num_cols] = scaler.fit_transform(df[num_cols])"
   ]
  },
  {
   "cell_type": "code",
   "execution_count": 52,
   "id": "f8f2ce43",
   "metadata": {
    "execution": {
     "iopub.execute_input": "2022-08-03T19:03:01.866428Z",
     "iopub.status.busy": "2022-08-03T19:03:01.864960Z",
     "iopub.status.idle": "2022-08-03T19:03:01.888480Z",
     "shell.execute_reply": "2022-08-03T19:03:01.887164Z"
    },
    "papermill": {
     "duration": 0.060828,
     "end_time": "2022-08-03T19:03:01.891242",
     "exception": false,
     "start_time": "2022-08-03T19:03:01.830414",
     "status": "completed"
    },
    "tags": []
   },
   "outputs": [
    {
     "data": {
      "text/html": [
       "<div>\n",
       "<style scoped>\n",
       "    .dataframe tbody tr th:only-of-type {\n",
       "        vertical-align: middle;\n",
       "    }\n",
       "\n",
       "    .dataframe tbody tr th {\n",
       "        vertical-align: top;\n",
       "    }\n",
       "\n",
       "    .dataframe thead th {\n",
       "        text-align: right;\n",
       "    }\n",
       "</style>\n",
       "<table border=\"1\" class=\"dataframe\">\n",
       "  <thead>\n",
       "    <tr style=\"text-align: right;\">\n",
       "      <th></th>\n",
       "      <th>Pregnancies</th>\n",
       "      <th>Glucose</th>\n",
       "      <th>BloodPressure</th>\n",
       "      <th>SkinThickness</th>\n",
       "      <th>Insulin</th>\n",
       "      <th>BMI</th>\n",
       "      <th>DiabetesPedigreeFunction</th>\n",
       "      <th>Age</th>\n",
       "      <th>Outcome</th>\n",
       "      <th>INSULIN_CAT</th>\n",
       "      <th>...</th>\n",
       "      <th>BMI_CAT_2nd_Obese</th>\n",
       "      <th>BMI_CAT_3rd_Obese</th>\n",
       "      <th>BMI_CAT_normal</th>\n",
       "      <th>BMI_CAT_overweight</th>\n",
       "      <th>BMI_CAT_weak</th>\n",
       "      <th>DIASTOLIC_CAT_low</th>\n",
       "      <th>DIASTOLIC_CAT_normal</th>\n",
       "      <th>PREG_CAT_normal</th>\n",
       "      <th>PREG_CAT_unpregnant</th>\n",
       "      <th>PREG_CAT_very high</th>\n",
       "    </tr>\n",
       "  </thead>\n",
       "  <tbody>\n",
       "    <tr>\n",
       "      <th>0</th>\n",
       "      <td>0.647150</td>\n",
       "      <td>0.866045</td>\n",
       "      <td>-0.030632</td>\n",
       "      <td>7.044545e-01</td>\n",
       "      <td>1.064869</td>\n",
       "      <td>0.181092</td>\n",
       "      <td>0.588927</td>\n",
       "      <td>1.445691</td>\n",
       "      <td>1</td>\n",
       "      <td>0</td>\n",
       "      <td>...</td>\n",
       "      <td>0</td>\n",
       "      <td>0</td>\n",
       "      <td>0</td>\n",
       "      <td>0</td>\n",
       "      <td>0</td>\n",
       "      <td>0</td>\n",
       "      <td>1</td>\n",
       "      <td>0</td>\n",
       "      <td>0</td>\n",
       "      <td>0</td>\n",
       "    </tr>\n",
       "    <tr>\n",
       "      <th>1</th>\n",
       "      <td>-0.848970</td>\n",
       "      <td>-1.205066</td>\n",
       "      <td>-0.543914</td>\n",
       "      <td>-7.013859e-03</td>\n",
       "      <td>0.480186</td>\n",
       "      <td>-0.869465</td>\n",
       "      <td>-0.378101</td>\n",
       "      <td>-0.189304</td>\n",
       "      <td>0</td>\n",
       "      <td>0</td>\n",
       "      <td>...</td>\n",
       "      <td>0</td>\n",
       "      <td>0</td>\n",
       "      <td>0</td>\n",
       "      <td>1</td>\n",
       "      <td>0</td>\n",
       "      <td>1</td>\n",
       "      <td>0</td>\n",
       "      <td>1</td>\n",
       "      <td>0</td>\n",
       "      <td>0</td>\n",
       "    </tr>\n",
       "    <tr>\n",
       "      <th>2</th>\n",
       "      <td>1.245598</td>\n",
       "      <td>2.016662</td>\n",
       "      <td>-0.715008</td>\n",
       "      <td>-4.212739e-16</td>\n",
       "      <td>-0.006494</td>\n",
       "      <td>-1.364728</td>\n",
       "      <td>0.746595</td>\n",
       "      <td>-0.103252</td>\n",
       "      <td>1</td>\n",
       "      <td>0</td>\n",
       "      <td>...</td>\n",
       "      <td>0</td>\n",
       "      <td>0</td>\n",
       "      <td>1</td>\n",
       "      <td>0</td>\n",
       "      <td>0</td>\n",
       "      <td>1</td>\n",
       "      <td>0</td>\n",
       "      <td>0</td>\n",
       "      <td>0</td>\n",
       "      <td>0</td>\n",
       "    </tr>\n",
       "    <tr>\n",
       "      <th>3</th>\n",
       "      <td>-0.848970</td>\n",
       "      <td>-1.073567</td>\n",
       "      <td>-0.543914</td>\n",
       "      <td>-7.184822e-01</td>\n",
       "      <td>-0.783113</td>\n",
       "      <td>-0.644346</td>\n",
       "      <td>-1.022787</td>\n",
       "      <td>-1.049828</td>\n",
       "      <td>0</td>\n",
       "      <td>1</td>\n",
       "      <td>...</td>\n",
       "      <td>0</td>\n",
       "      <td>0</td>\n",
       "      <td>0</td>\n",
       "      <td>1</td>\n",
       "      <td>0</td>\n",
       "      <td>1</td>\n",
       "      <td>0</td>\n",
       "      <td>1</td>\n",
       "      <td>0</td>\n",
       "      <td>0</td>\n",
       "    </tr>\n",
       "    <tr>\n",
       "      <th>4</th>\n",
       "      <td>-1.148194</td>\n",
       "      <td>0.504422</td>\n",
       "      <td>-2.768136</td>\n",
       "      <td>7.044545e-01</td>\n",
       "      <td>0.311549</td>\n",
       "      <td>1.606849</td>\n",
       "      <td>2.596563</td>\n",
       "      <td>-0.017199</td>\n",
       "      <td>1</td>\n",
       "      <td>0</td>\n",
       "      <td>...</td>\n",
       "      <td>1</td>\n",
       "      <td>0</td>\n",
       "      <td>0</td>\n",
       "      <td>0</td>\n",
       "      <td>0</td>\n",
       "      <td>1</td>\n",
       "      <td>0</td>\n",
       "      <td>0</td>\n",
       "      <td>1</td>\n",
       "      <td>0</td>\n",
       "    </tr>\n",
       "  </tbody>\n",
       "</table>\n",
       "<p>5 rows × 26 columns</p>\n",
       "</div>"
      ],
      "text/plain": [
       "   Pregnancies   Glucose  BloodPressure  SkinThickness   Insulin       BMI  \\\n",
       "0     0.647150  0.866045      -0.030632   7.044545e-01  1.064869  0.181092   \n",
       "1    -0.848970 -1.205066      -0.543914  -7.013859e-03  0.480186 -0.869465   \n",
       "2     1.245598  2.016662      -0.715008  -4.212739e-16 -0.006494 -1.364728   \n",
       "3    -0.848970 -1.073567      -0.543914  -7.184822e-01 -0.783113 -0.644346   \n",
       "4    -1.148194  0.504422      -2.768136   7.044545e-01  0.311549  1.606849   \n",
       "\n",
       "   DiabetesPedigreeFunction       Age  Outcome  INSULIN_CAT  ...  \\\n",
       "0                  0.588927  1.445691        1            0  ...   \n",
       "1                 -0.378101 -0.189304        0            0  ...   \n",
       "2                  0.746595 -0.103252        1            0  ...   \n",
       "3                 -1.022787 -1.049828        0            1  ...   \n",
       "4                  2.596563 -0.017199        1            0  ...   \n",
       "\n",
       "   BMI_CAT_2nd_Obese  BMI_CAT_3rd_Obese  BMI_CAT_normal  BMI_CAT_overweight  \\\n",
       "0                  0                  0               0                   0   \n",
       "1                  0                  0               0                   1   \n",
       "2                  0                  0               1                   0   \n",
       "3                  0                  0               0                   1   \n",
       "4                  1                  0               0                   0   \n",
       "\n",
       "   BMI_CAT_weak  DIASTOLIC_CAT_low  DIASTOLIC_CAT_normal  PREG_CAT_normal  \\\n",
       "0             0                  0                     1                0   \n",
       "1             0                  1                     0                1   \n",
       "2             0                  1                     0                0   \n",
       "3             0                  1                     0                1   \n",
       "4             0                  1                     0                0   \n",
       "\n",
       "   PREG_CAT_unpregnant  PREG_CAT_very high  \n",
       "0                    0                   0  \n",
       "1                    0                   0  \n",
       "2                    0                   0  \n",
       "3                    0                   0  \n",
       "4                    1                   0  \n",
       "\n",
       "[5 rows x 26 columns]"
      ]
     },
     "execution_count": 52,
     "metadata": {},
     "output_type": "execute_result"
    }
   ],
   "source": [
    "df.head()"
   ]
  },
  {
   "cell_type": "markdown",
   "id": "424960ad",
   "metadata": {
    "papermill": {
     "duration": 0.031041,
     "end_time": "2022-08-03T19:03:01.953940",
     "exception": false,
     "start_time": "2022-08-03T19:03:01.922899",
     "status": "completed"
    },
    "tags": []
   },
   "source": [
    "#### **3.3.Create Modeling**\n",
    "<a id=\"create_modeling\"></a>"
   ]
  },
  {
   "cell_type": "code",
   "execution_count": 53,
   "id": "d19b0313",
   "metadata": {
    "execution": {
     "iopub.execute_input": "2022-08-03T19:03:02.021483Z",
     "iopub.status.busy": "2022-08-03T19:03:02.021019Z",
     "iopub.status.idle": "2022-08-03T19:03:02.029067Z",
     "shell.execute_reply": "2022-08-03T19:03:02.027497Z"
    },
    "papermill": {
     "duration": 0.045946,
     "end_time": "2022-08-03T19:03:02.031791",
     "exception": false,
     "start_time": "2022-08-03T19:03:01.985845",
     "status": "completed"
    },
    "tags": []
   },
   "outputs": [],
   "source": [
    "y = df[\"Outcome\"]\n",
    "X = df.drop([\"Outcome\"], axis=1)"
   ]
  },
  {
   "cell_type": "code",
   "execution_count": 54,
   "id": "e2625511",
   "metadata": {
    "execution": {
     "iopub.execute_input": "2022-08-03T19:03:02.100350Z",
     "iopub.status.busy": "2022-08-03T19:03:02.099190Z",
     "iopub.status.idle": "2022-08-03T19:03:02.106553Z",
     "shell.execute_reply": "2022-08-03T19:03:02.105574Z"
    },
    "papermill": {
     "duration": 0.04403,
     "end_time": "2022-08-03T19:03:02.108986",
     "exception": false,
     "start_time": "2022-08-03T19:03:02.064956",
     "status": "completed"
    },
    "tags": []
   },
   "outputs": [],
   "source": [
    "X_train, X_test, y_train, y_test = train_test_split(X, y, test_size=0.30, random_state=17)"
   ]
  },
  {
   "cell_type": "code",
   "execution_count": 55,
   "id": "3392243e",
   "metadata": {
    "execution": {
     "iopub.execute_input": "2022-08-03T19:03:02.174569Z",
     "iopub.status.busy": "2022-08-03T19:03:02.173660Z",
     "iopub.status.idle": "2022-08-03T19:03:02.432973Z",
     "shell.execute_reply": "2022-08-03T19:03:02.431749Z"
    },
    "papermill": {
     "duration": 0.295439,
     "end_time": "2022-08-03T19:03:02.435764",
     "exception": false,
     "start_time": "2022-08-03T19:03:02.140325",
     "status": "completed"
    },
    "tags": []
   },
   "outputs": [
    {
     "data": {
      "text/plain": [
       "0.7705627705627706"
      ]
     },
     "execution_count": 55,
     "metadata": {},
     "output_type": "execute_result"
    }
   ],
   "source": [
    "from sklearn.ensemble import RandomForestClassifier\n",
    "rf_model = RandomForestClassifier(random_state=46).fit(X_train, y_train)\n",
    "y_pred = rf_model.predict(X_test)\n",
    "accuracy_score(y_pred, y_test)"
   ]
  },
  {
   "cell_type": "code",
   "execution_count": 56,
   "id": "58961167",
   "metadata": {
    "execution": {
     "iopub.execute_input": "2022-08-03T19:03:02.506724Z",
     "iopub.status.busy": "2022-08-03T19:03:02.505916Z",
     "iopub.status.idle": "2022-08-03T19:03:02.516537Z",
     "shell.execute_reply": "2022-08-03T19:03:02.515103Z"
    },
    "papermill": {
     "duration": 0.048865,
     "end_time": "2022-08-03T19:03:02.519647",
     "exception": false,
     "start_time": "2022-08-03T19:03:02.470782",
     "status": "completed"
    },
    "tags": []
   },
   "outputs": [],
   "source": [
    "primitive_success=[]\n",
    "model_names=[]\n",
    "y=df['Outcome']\n",
    "X=df.drop('Outcome',axis=1)\n",
    "from sklearn.model_selection import train_test_split\n",
    "X_train,X_test,y_train,y_test=train_test_split(X,y,test_size=0.30)\n",
    "\n",
    "def ML(algName):\n",
    "\n",
    "    # Model Building / Training\n",
    "    model=algName().fit(X_train,y_train)\n",
    "    model_name=algName.__name__\n",
    "    model_names.append(model_name)\n",
    "    # Prediction\n",
    "    y_pred=model.predict(X_test)\n",
    "    # primitive-Success / Verification Score\n",
    "    from sklearn.metrics import accuracy_score\n",
    "    primitiveSuccess=accuracy_score(y_test,y_pred)\n",
    "    primitive_success.append(primitiveSuccess)\n",
    "    return  primitive_success,model_names,model"
   ]
  },
  {
   "cell_type": "code",
   "execution_count": 57,
   "id": "9ceada27",
   "metadata": {
    "execution": {
     "iopub.execute_input": "2022-08-03T19:03:02.591967Z",
     "iopub.status.busy": "2022-08-03T19:03:02.591184Z",
     "iopub.status.idle": "2022-08-03T19:03:04.904358Z",
     "shell.execute_reply": "2022-08-03T19:03:04.903116Z"
    },
    "papermill": {
     "duration": 2.351423,
     "end_time": "2022-08-03T19:03:04.907533",
     "exception": false,
     "start_time": "2022-08-03T19:03:02.556110",
     "status": "completed"
    },
    "tags": []
   },
   "outputs": [
    {
     "name": "stderr",
     "output_type": "stream",
     "text": [
      "/opt/conda/lib/python3.7/site-packages/sklearn/neural_network/_multilayer_perceptron.py:696: ConvergenceWarning: Stochastic Optimizer: Maximum iterations (200) reached and the optimization hasn't converged yet.\n",
      "  ConvergenceWarning,\n"
     ]
    },
    {
     "data": {
      "text/html": [
       "<div>\n",
       "<style scoped>\n",
       "    .dataframe tbody tr th:only-of-type {\n",
       "        vertical-align: middle;\n",
       "    }\n",
       "\n",
       "    .dataframe tbody tr th {\n",
       "        vertical-align: top;\n",
       "    }\n",
       "\n",
       "    .dataframe thead th {\n",
       "        text-align: right;\n",
       "    }\n",
       "</style>\n",
       "<table border=\"1\" class=\"dataframe\">\n",
       "  <thead>\n",
       "    <tr style=\"text-align: right;\">\n",
       "      <th></th>\n",
       "      <th>accuracy_Score</th>\n",
       "    </tr>\n",
       "  </thead>\n",
       "  <tbody>\n",
       "    <tr>\n",
       "      <th>SVC</th>\n",
       "      <td>0.800866</td>\n",
       "    </tr>\n",
       "    <tr>\n",
       "      <th>MLPClassifier</th>\n",
       "      <td>0.792208</td>\n",
       "    </tr>\n",
       "    <tr>\n",
       "      <th>RandomForestClassifier</th>\n",
       "      <td>0.770563</td>\n",
       "    </tr>\n",
       "    <tr>\n",
       "      <th>LGBMClassifier</th>\n",
       "      <td>0.766234</td>\n",
       "    </tr>\n",
       "    <tr>\n",
       "      <th>KNeighborsClassifier</th>\n",
       "      <td>0.761905</td>\n",
       "    </tr>\n",
       "    <tr>\n",
       "      <th>XGBClassifier</th>\n",
       "      <td>0.757576</td>\n",
       "    </tr>\n",
       "    <tr>\n",
       "      <th>GradientBoostingClassifier</th>\n",
       "      <td>0.740260</td>\n",
       "    </tr>\n",
       "    <tr>\n",
       "      <th>DecisionTreeClassifier</th>\n",
       "      <td>0.662338</td>\n",
       "    </tr>\n",
       "  </tbody>\n",
       "</table>\n",
       "</div>"
      ],
      "text/plain": [
       "                            accuracy_Score\n",
       "SVC                               0.800866\n",
       "MLPClassifier                     0.792208\n",
       "RandomForestClassifier            0.770563\n",
       "LGBMClassifier                    0.766234\n",
       "KNeighborsClassifier              0.761905\n",
       "XGBClassifier                     0.757576\n",
       "GradientBoostingClassifier        0.740260\n",
       "DecisionTreeClassifier            0.662338"
      ]
     },
     "execution_count": 57,
     "metadata": {},
     "output_type": "execute_result"
    }
   ],
   "source": [
    "models=[KNeighborsClassifier,SVC,MLPClassifier,DecisionTreeClassifier,RandomForestClassifier,GradientBoostingClassifier,XGBClassifier,LGBMClassifier]\n",
    "for i in models:\n",
    "    ML(i)\n",
    "\n",
    "\n",
    "classification=pd.DataFrame( primitive_success,columns=\n",
    "                                 ['accuracy_Score'],index=[model_names]).sort_values(by='accuracy_Score',ascending=False)\n",
    "classification"
   ]
  },
  {
   "cell_type": "code",
   "execution_count": 58,
   "id": "c458e6cc",
   "metadata": {
    "execution": {
     "iopub.execute_input": "2022-08-03T19:03:05.053269Z",
     "iopub.status.busy": "2022-08-03T19:03:05.052411Z",
     "iopub.status.idle": "2022-08-03T19:03:08.661061Z",
     "shell.execute_reply": "2022-08-03T19:03:08.659765Z"
    },
    "papermill": {
     "duration": 3.646902,
     "end_time": "2022-08-03T19:03:08.663847",
     "exception": false,
     "start_time": "2022-08-03T19:03:05.016945",
     "status": "completed"
    },
    "tags": []
   },
   "outputs": [
    {
     "data": {
      "image/png": "[encoded data removed]",
      "text/plain": [
       "<Figure size 720x720 with 1 Axes>"
      ]
     },
     "metadata": {
      "needs_background": "light"
     },
     "output_type": "display_data"
    },
    {
     "data": {
      "image/png": "[encoded data removed]",
      "text/plain": [
       "<Figure size 720x720 with 1 Axes>"
      ]
     },
     "metadata": {},
     "output_type": "display_data"
    },
    {
     "data": {
      "image/png": "[encoded data removed]",
      "text/plain": [
       "<Figure size 720x720 with 1 Axes>"
      ]
     },
     "metadata": {},
     "output_type": "display_data"
    },
    {
     "data": {
      "image/png": "[encoded data removed]",
      "text/plain": [
       "<Figure size 720x720 with 1 Axes>"
      ]
     },
     "metadata": {},
     "output_type": "display_data"
    },
    {
     "data": {
      "image/png": "[encoded data removed]",
      "text/plain": [
       "<Figure size 720x720 with 1 Axes>"
      ]
     },
     "metadata": {},
     "output_type": "display_data"
    }
   ],
   "source": [
    "def plot_importance(model, features,modelName, num=len(X)):\n",
    "    feature_imp = pd.DataFrame({'Value': model.feature_importances_, 'Feature': features.columns})\n",
    "    plt.figure(figsize=(10, 10))\n",
    "    sns.set(font_scale=1)\n",
    "    sns.barplot(x=\"Value\", y=\"Feature\", data=feature_imp.sort_values(by=\"Value\",ascending=False)[0:num])\n",
    "    plt.title('Features'+ ' - ' + modelName.__name__ )\n",
    "    plt.tight_layout()\n",
    "    plt.show()\n",
    "\n",
    "for i in models[3:]:\n",
    "    model=i().fit(X_train,y_train)\n",
    "    plot_importance(model, X_train,i)"
   ]
  },
  {
   "cell_type": "markdown",
   "id": "47c1060d",
   "metadata": {
    "papermill": {
     "duration": 0.036947,
     "end_time": "2022-08-03T19:03:08.739156",
     "exception": false,
     "start_time": "2022-08-03T19:03:08.702209",
     "status": "completed"
    },
    "tags": []
   },
   "source": [
    "##                           4.SUMMARY                                    #\n",
    "<a id=\"summary\"></a>"
   ]
  },
  {
   "cell_type": "markdown",
   "id": "1a712c4a",
   "metadata": {
    "papermill": {
     "duration": 0.03744,
     "end_time": "2022-08-03T19:03:08.813440",
     "exception": false,
     "start_time": "2022-08-03T19:03:08.776000",
     "status": "completed"
    },
    "tags": []
   },
   "source": [
    "The work done is as follows:\n",
    "\n",
    "* Imported Libraries and Read Diabetes Dataset\n",
    "* Explorary Data Analysis : We checked the missing values and we defined a function to grab the categorical and numerical variables of its dataset. We made the target variable analysis and outliers analysis.\n",
    "* Data Preprocessing : We filled missing values of some variables with median values or the knn method.\n",
    "* Featured Engineering: We created new feature interactions for categorical variables.\n",
    "* Encoding: One-Hot-Encoding was implemented for categorical variables.\n",
    "* Modeling: We created ML model for the dataset. The accuracy score was calculated the machine learning models that are KNeighborsClassifier,SVC,MLPClassifier,DecisionTreeClassifier,RandomForestClassifier,GradientBoostingClassifier,XGBClassifier,LGBMClassifier.\n",
    "\n",
    "\n",
    "\n",
    "Comments on diabetes status are as follows:\n",
    "\n",
    "* In the case of diabetes, especially the Glucose, BMI and Age variables of women are an important factor.\n",
    "* The rate of diabetes may be higher in middle-aged women aged 45-65 years.\n",
    "\n",
    "Thank you for your suggestions and comments :)"
   ]
  },
  {
   "cell_type": "code",
   "execution_count": null,
   "id": "b7e1bf01",
   "metadata": {
    "papermill": {
     "duration": 0.036749,
     "end_time": "2022-08-03T19:03:08.886697",
     "exception": false,
     "start_time": "2022-08-03T19:03:08.849948",
     "status": "completed"
    },
    "tags": []
   },
   "outputs": [],
   "source": []
  }
 ],
 "metadata": {
  "kernelspec": {
   "display_name": "Python 3 (ipykernel)",
   "language": "python",
   "name": "python3"
  },
  "language_info": {
   "codemirror_mode": {
    "name": "ipython",
    "version": 3
   },
   "file_extension": ".py",
   "mimetype": "text/x-python",
   "name": "python",
   "nbconvert_exporter": "python",
   "pygments_lexer": "ipython3",
   "version": "3.9.12"
  },
  "papermill": {
   "default_parameters": {},
   "duration": 30.498374,
   "end_time": "2022-08-03T19:03:09.848848",
   "environment_variables": {},
   "exception": null,
   "input_path": "__notebook__.ipynb",
   "output_path": "__notebook__.ipynb",
   "parameters": {},
   "start_time": "2022-08-03T19:02:39.350474",
   "version": "2.3.4"
  }
 },
 "nbformat": 4,
 "nbformat_minor": 5
}
